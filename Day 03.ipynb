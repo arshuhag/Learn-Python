{
 "cells": [
  {
   "cell_type": "markdown",
   "id": "e4f2e527-4390-43ac-8793-519112980ba1",
   "metadata": {},
   "source": [
    "# Numeric Data"
   ]
  },
  {
   "cell_type": "code",
   "execution_count": 1,
   "id": "b6b79a35-b236-4e1c-be4f-6587ff71920d",
   "metadata": {},
   "outputs": [],
   "source": [
    "x = 10 #int\n",
    "y = 10.5 #float\n",
    "z = 10+5j #10 is real number and 5j is imaginary"
   ]
  },
  {
   "cell_type": "code",
   "execution_count": 2,
   "id": "55577d11-9cab-4d65-93ad-422c6208ec87",
   "metadata": {},
   "outputs": [
    {
     "data": {
      "text/plain": [
       "int"
      ]
     },
     "execution_count": 2,
     "metadata": {},
     "output_type": "execute_result"
    }
   ],
   "source": [
    "type(x)"
   ]
  },
  {
   "cell_type": "code",
   "execution_count": 3,
   "id": "e8cf8fe3-9750-49f4-ae2c-51e977ebe9ba",
   "metadata": {},
   "outputs": [
    {
     "data": {
      "text/plain": [
       "float"
      ]
     },
     "execution_count": 3,
     "metadata": {},
     "output_type": "execute_result"
    }
   ],
   "source": [
    "type(y)"
   ]
  },
  {
   "cell_type": "code",
   "execution_count": 4,
   "id": "e7d25e3a-fbc8-4283-a906-836cd1eaf9a3",
   "metadata": {},
   "outputs": [
    {
     "data": {
      "text/plain": [
       "complex"
      ]
     },
     "execution_count": 4,
     "metadata": {},
     "output_type": "execute_result"
    }
   ],
   "source": [
    "type(z)"
   ]
  },
  {
   "cell_type": "code",
   "execution_count": 5,
   "id": "53a1f542-37f8-4d26-870b-e8b1a1aa51c0",
   "metadata": {},
   "outputs": [
    {
     "data": {
      "text/plain": [
       "True"
      ]
     },
     "execution_count": 5,
     "metadata": {},
     "output_type": "execute_result"
    }
   ],
   "source": [
    "isinstance(z,complex)"
   ]
  },
  {
   "cell_type": "code",
   "execution_count": 6,
   "id": "2a010326-0b32-4d56-a0c7-c2eac4bd7cd0",
   "metadata": {},
   "outputs": [
    {
     "data": {
      "text/plain": [
       "True"
      ]
     },
     "execution_count": 6,
     "metadata": {},
     "output_type": "execute_result"
    }
   ],
   "source": [
    "isinstance(x,int)"
   ]
  },
  {
   "cell_type": "code",
   "execution_count": 7,
   "id": "0becd2b8-7b8b-4432-874f-5afa52f3a505",
   "metadata": {},
   "outputs": [
    {
     "data": {
      "text/plain": [
       "False"
      ]
     },
     "execution_count": 7,
     "metadata": {},
     "output_type": "execute_result"
    }
   ],
   "source": [
    "isinstance(10.5,int)"
   ]
  },
  {
   "cell_type": "code",
   "execution_count": 8,
   "id": "e9f6086f-2b6a-47f5-9ae3-7936e018c08b",
   "metadata": {},
   "outputs": [],
   "source": [
    "n = float(x) #int to float"
   ]
  },
  {
   "cell_type": "code",
   "execution_count": 9,
   "id": "9e2d717b-8571-4fbf-b7bc-1ab989de100a",
   "metadata": {},
   "outputs": [
    {
     "data": {
      "text/plain": [
       "10.0"
      ]
     },
     "execution_count": 9,
     "metadata": {},
     "output_type": "execute_result"
    }
   ],
   "source": [
    "n"
   ]
  },
  {
   "cell_type": "code",
   "execution_count": 10,
   "id": "a350265a-15e7-4284-846b-9fd5f4e79366",
   "metadata": {},
   "outputs": [
    {
     "data": {
      "text/plain": [
       "float"
      ]
     },
     "execution_count": 10,
     "metadata": {},
     "output_type": "execute_result"
    }
   ],
   "source": [
    "type(n)"
   ]
  },
  {
   "cell_type": "code",
   "execution_count": 11,
   "id": "cec142bb-0a16-4ba3-b43f-6ec88e7c38c2",
   "metadata": {},
   "outputs": [
    {
     "data": {
      "text/plain": [
       "int"
      ]
     },
     "execution_count": 11,
     "metadata": {},
     "output_type": "execute_result"
    }
   ],
   "source": [
    "n = int(n) #float to int\n",
    "type(n)"
   ]
  },
  {
   "cell_type": "code",
   "execution_count": 12,
   "id": "172af469-601c-4b59-af6a-bdd6ce02f2ae",
   "metadata": {},
   "outputs": [
    {
     "data": {
      "text/plain": [
       "10"
      ]
     },
     "execution_count": 12,
     "metadata": {},
     "output_type": "execute_result"
    }
   ],
   "source": [
    "n"
   ]
  },
  {
   "cell_type": "code",
   "execution_count": 13,
   "id": "f58c4128-c6db-4e7a-89e4-2c438cfdb22c",
   "metadata": {},
   "outputs": [],
   "source": [
    "n = complex(n)"
   ]
  },
  {
   "cell_type": "code",
   "execution_count": 14,
   "id": "6201600d-e168-4a47-b8ba-dd691b13fbc7",
   "metadata": {},
   "outputs": [
    {
     "data": {
      "text/plain": [
       "(10+0j)"
      ]
     },
     "execution_count": 14,
     "metadata": {},
     "output_type": "execute_result"
    }
   ],
   "source": [
    "n"
   ]
  },
  {
   "cell_type": "code",
   "execution_count": 15,
   "id": "0234bd4e-37d4-43a7-ad5d-63fab5ed7fbe",
   "metadata": {},
   "outputs": [
    {
     "data": {
      "text/plain": [
       "complex"
      ]
     },
     "execution_count": 15,
     "metadata": {},
     "output_type": "execute_result"
    }
   ],
   "source": [
    "type(n)"
   ]
  },
  {
   "cell_type": "code",
   "execution_count": 16,
   "id": "ce276fe8-9e42-4794-bd50-fb22e0bfc93e",
   "metadata": {},
   "outputs": [
    {
     "ename": "TypeError",
     "evalue": "int() argument must be a string, a bytes-like object or a real number, not 'complex'",
     "output_type": "error",
     "traceback": [
      "\u001b[1;31m---------------------------------------------------------------------------\u001b[0m",
      "\u001b[1;31mTypeError\u001b[0m                                 Traceback (most recent call last)",
      "Cell \u001b[1;32mIn[16], line 1\u001b[0m\n\u001b[1;32m----> 1\u001b[0m n \u001b[38;5;241m=\u001b[39m \u001b[38;5;28mint\u001b[39m(n)\n",
      "\u001b[1;31mTypeError\u001b[0m: int() argument must be a string, a bytes-like object or a real number, not 'complex'"
     ]
    }
   ],
   "source": [
    "n = int(n) #complex to int or float is not possible"
   ]
  },
  {
   "cell_type": "code",
   "execution_count": 17,
   "id": "c7b5e1ac-b0d2-4b58-8d80-3103b1104426",
   "metadata": {},
   "outputs": [
    {
     "name": "stdin",
     "output_type": "stream",
     "text": [
      "Enter your complex number:  5+1j\n"
     ]
    }
   ],
   "source": [
    "n = complex(input('Enter your complex number: '))"
   ]
  },
  {
   "cell_type": "code",
   "execution_count": 18,
   "id": "1496e383-9942-454e-983b-145cea38c194",
   "metadata": {},
   "outputs": [
    {
     "data": {
      "text/plain": [
       "(5+1j)"
      ]
     },
     "execution_count": 18,
     "metadata": {},
     "output_type": "execute_result"
    }
   ],
   "source": [
    "n"
   ]
  },
  {
   "cell_type": "markdown",
   "id": "5b3a352b-fdba-4c4b-88c2-23079336e7dd",
   "metadata": {},
   "source": [
    "# Bool"
   ]
  },
  {
   "cell_type": "code",
   "execution_count": 20,
   "id": "4114a563-e7e3-4db8-abe1-52b7ab78ae12",
   "metadata": {},
   "outputs": [],
   "source": [
    "x = True\n",
    "y = False"
   ]
  },
  {
   "cell_type": "code",
   "execution_count": 21,
   "id": "08504806-825d-4328-8a76-a89f9492e270",
   "metadata": {},
   "outputs": [
    {
     "data": {
      "text/plain": [
       "bool"
      ]
     },
     "execution_count": 21,
     "metadata": {},
     "output_type": "execute_result"
    }
   ],
   "source": [
    "type(x)"
   ]
  },
  {
   "cell_type": "code",
   "execution_count": 22,
   "id": "7de0359e-e510-4f6d-bb9f-0793bcd0e3e7",
   "metadata": {},
   "outputs": [
    {
     "data": {
      "text/plain": [
       "True"
      ]
     },
     "execution_count": 22,
     "metadata": {},
     "output_type": "execute_result"
    }
   ],
   "source": [
    "x"
   ]
  },
  {
   "cell_type": "markdown",
   "id": "a1dbddaa-e8f0-4925-8616-c728c6b35e6f",
   "metadata": {},
   "source": [
    "# Sequence Data"
   ]
  },
  {
   "cell_type": "code",
   "execution_count": 23,
   "id": "9b755ae4-c8bf-4d79-88e8-a44faeae0605",
   "metadata": {},
   "outputs": [],
   "source": [
    "#list []\n",
    "l = [1,2,3,4,True,[1,2],'data',(1,2,3,8)]"
   ]
  },
  {
   "cell_type": "code",
   "execution_count": 24,
   "id": "08b53921-722a-4d9f-b427-a88a7dad9859",
   "metadata": {},
   "outputs": [
    {
     "data": {
      "text/plain": [
       "[1, 2, 3, 4, True, [1, 2], 'data', (1, 2, 3, 8)]"
      ]
     },
     "execution_count": 24,
     "metadata": {},
     "output_type": "execute_result"
    }
   ],
   "source": [
    "l"
   ]
  },
  {
   "cell_type": "code",
   "execution_count": 25,
   "id": "f235ebc7-ec28-418c-8928-3261bb4b141f",
   "metadata": {},
   "outputs": [
    {
     "data": {
      "text/plain": [
       "1"
      ]
     },
     "execution_count": 25,
     "metadata": {},
     "output_type": "execute_result"
    }
   ],
   "source": [
    "l[0]"
   ]
  },
  {
   "cell_type": "code",
   "execution_count": 26,
   "id": "85f4a3a5-57a5-4267-be7a-99d7ace9c547",
   "metadata": {},
   "outputs": [
    {
     "data": {
      "text/plain": [
       "(1, 2, 3, 8)"
      ]
     },
     "execution_count": 26,
     "metadata": {},
     "output_type": "execute_result"
    }
   ],
   "source": [
    "l[-1]"
   ]
  },
  {
   "cell_type": "code",
   "execution_count": 27,
   "id": "2e7a1f65-0d4d-4923-b37c-41acbb568953",
   "metadata": {},
   "outputs": [
    {
     "data": {
      "text/plain": [
       "8"
      ]
     },
     "execution_count": 27,
     "metadata": {},
     "output_type": "execute_result"
    }
   ],
   "source": [
    "l[-1][-1]"
   ]
  },
  {
   "cell_type": "code",
   "execution_count": 28,
   "id": "aa3ab18f-f978-4a0c-95fa-c96e9b58e04d",
   "metadata": {},
   "outputs": [
    {
     "data": {
      "text/plain": [
       "True"
      ]
     },
     "execution_count": 28,
     "metadata": {},
     "output_type": "execute_result"
    }
   ],
   "source": [
    "isinstance(l,list)"
   ]
  },
  {
   "cell_type": "code",
   "execution_count": 29,
   "id": "7f63176e-3d7a-4f97-8db8-6eae5c541145",
   "metadata": {},
   "outputs": [],
   "source": [
    "#tuple ()\n",
    "t = (1,2,3,4,'Ai')"
   ]
  },
  {
   "cell_type": "code",
   "execution_count": 30,
   "id": "613d9ddf-af27-4c57-8db8-ccd9e492dd7b",
   "metadata": {},
   "outputs": [
    {
     "data": {
      "text/plain": [
       "tuple"
      ]
     },
     "execution_count": 30,
     "metadata": {},
     "output_type": "execute_result"
    }
   ],
   "source": [
    "type(t)"
   ]
  },
  {
   "cell_type": "code",
   "execution_count": 31,
   "id": "abab67eb-83bb-4a05-8555-4e66e8d26c78",
   "metadata": {},
   "outputs": [
    {
     "data": {
      "text/plain": [
       "1"
      ]
     },
     "execution_count": 31,
     "metadata": {},
     "output_type": "execute_result"
    }
   ],
   "source": [
    "t[0]"
   ]
  },
  {
   "cell_type": "code",
   "execution_count": 32,
   "id": "de27b49b-ea8a-421a-9f66-509bc1074922",
   "metadata": {},
   "outputs": [
    {
     "data": {
      "text/plain": [
       "(1, 2, 3, 4)"
      ]
     },
     "execution_count": 32,
     "metadata": {},
     "output_type": "execute_result"
    }
   ],
   "source": [
    "t[0:4] #colon means to ; 0 to 4-1"
   ]
  },
  {
   "cell_type": "code",
   "execution_count": 33,
   "id": "88d8535f-8250-4323-a0f6-cbbaaf27040a",
   "metadata": {},
   "outputs": [],
   "source": [
    "#range()\n",
    "x = range(10) #1st case"
   ]
  },
  {
   "cell_type": "code",
   "execution_count": 34,
   "id": "a4b8b1ba-f407-4b1c-a542-5aacb4106ab5",
   "metadata": {},
   "outputs": [
    {
     "data": {
      "text/plain": [
       "range(0, 10)"
      ]
     },
     "execution_count": 34,
     "metadata": {},
     "output_type": "execute_result"
    }
   ],
   "source": [
    "x"
   ]
  },
  {
   "cell_type": "code",
   "execution_count": 35,
   "id": "2126f7c6-fcde-4929-904d-641a4960a97f",
   "metadata": {},
   "outputs": [
    {
     "name": "stdout",
     "output_type": "stream",
     "text": [
      "0\n",
      "1\n",
      "2\n",
      "3\n",
      "4\n",
      "5\n",
      "6\n",
      "7\n",
      "8\n",
      "9\n"
     ]
    }
   ],
   "source": [
    "for i in x:\n",
    "    print(i)"
   ]
  },
  {
   "cell_type": "code",
   "execution_count": 36,
   "id": "e0dfdca3-da45-4659-83e9-ed8d5efcb864",
   "metadata": {},
   "outputs": [
    {
     "name": "stdout",
     "output_type": "stream",
     "text": [
      "5\n",
      "6\n",
      "7\n",
      "8\n",
      "9\n",
      "10\n",
      "11\n",
      "12\n",
      "13\n",
      "14\n",
      "15\n",
      "16\n",
      "17\n",
      "18\n",
      "19\n"
     ]
    }
   ],
   "source": [
    "x = range(5,20) #2nd case\n",
    "for i in x:\n",
    "    print(i)"
   ]
  },
  {
   "cell_type": "code",
   "execution_count": 37,
   "id": "8ff16fe3-71f7-4026-a714-2675d1a63f4f",
   "metadata": {},
   "outputs": [
    {
     "name": "stdout",
     "output_type": "stream",
     "text": [
      "5\n",
      "8\n",
      "11\n",
      "14\n",
      "17\n"
     ]
    }
   ],
   "source": [
    "x = range(5,20,3) #3rd case\n",
    "for i in x:\n",
    "    print(i)"
   ]
  },
  {
   "cell_type": "code",
   "execution_count": 38,
   "id": "d9d89ede-974f-488e-bc77-310a3a18d7c6",
   "metadata": {},
   "outputs": [
    {
     "name": "stdout",
     "output_type": "stream",
     "text": [
      "20\n",
      "17\n",
      "14\n",
      "11\n",
      "8\n"
     ]
    }
   ],
   "source": [
    "x = range(20,5,-3) #4th case\n",
    "for i in x:\n",
    "    print(i)"
   ]
  },
  {
   "cell_type": "code",
   "execution_count": 39,
   "id": "28182d24-3593-4c5e-a95d-e4ea9fed66d7",
   "metadata": {},
   "outputs": [],
   "source": [
    "#array\n",
    "import array as ar"
   ]
  },
  {
   "cell_type": "code",
   "execution_count": 41,
   "id": "29e9f932-a35c-4c45-b8f9-4f84805f1d39",
   "metadata": {},
   "outputs": [
    {
     "data": {
      "text/plain": [
       "array('i', [1, 2, 3, 4])"
      ]
     },
     "execution_count": 41,
     "metadata": {},
     "output_type": "execute_result"
    }
   ],
   "source": [
    "a = ar.array('i',[1,2,3,4])\n",
    "a"
   ]
  },
  {
   "cell_type": "code",
   "execution_count": 42,
   "id": "e946799b-110f-4637-ae4c-8a6e53465f13",
   "metadata": {},
   "outputs": [
    {
     "data": {
      "text/plain": [
       "str"
      ]
     },
     "execution_count": 42,
     "metadata": {},
     "output_type": "execute_result"
    }
   ],
   "source": [
    "#string\n",
    "x = 'data'\n",
    "type(x)"
   ]
  },
  {
   "cell_type": "code",
   "execution_count": 43,
   "id": "d53e683d-13ac-4dce-aa2d-d999d197b81e",
   "metadata": {},
   "outputs": [],
   "source": [
    "#set\n",
    "s = {1,2,3,4}"
   ]
  },
  {
   "cell_type": "code",
   "execution_count": 44,
   "id": "2eb8faec-eccc-4492-8d51-f74d1cc96e0a",
   "metadata": {},
   "outputs": [
    {
     "data": {
      "text/plain": [
       "set"
      ]
     },
     "execution_count": 44,
     "metadata": {},
     "output_type": "execute_result"
    }
   ],
   "source": [
    "type(s)"
   ]
  },
  {
   "cell_type": "code",
   "execution_count": 45,
   "id": "b6e1bea2-1ad9-419e-b8eb-f040a5f5d1e7",
   "metadata": {},
   "outputs": [
    {
     "data": {
      "text/plain": [
       "{1, 2, 3, 4}"
      ]
     },
     "execution_count": 45,
     "metadata": {},
     "output_type": "execute_result"
    }
   ],
   "source": [
    "s"
   ]
  },
  {
   "cell_type": "code",
   "execution_count": 46,
   "id": "bff935be-7869-43b2-9810-0563f5715358",
   "metadata": {},
   "outputs": [],
   "source": [
    "#dictionary\n",
    "dic = {\n",
    "    'varsity': 'UAP',\n",
    "    'dept': 'CSE'\n",
    "}"
   ]
  },
  {
   "cell_type": "code",
   "execution_count": 47,
   "id": "ff3aecf9-d5ac-40c9-9599-5ca75f0c6f70",
   "metadata": {},
   "outputs": [
    {
     "data": {
      "text/plain": [
       "{'varsity': 'UAP', 'dept': 'CSE'}"
      ]
     },
     "execution_count": 47,
     "metadata": {},
     "output_type": "execute_result"
    }
   ],
   "source": [
    "dic"
   ]
  },
  {
   "cell_type": "code",
   "execution_count": 48,
   "id": "a5b5ec1c-37a7-4649-b46c-ae4667d7410d",
   "metadata": {},
   "outputs": [
    {
     "data": {
      "text/plain": [
       "dict"
      ]
     },
     "execution_count": 48,
     "metadata": {},
     "output_type": "execute_result"
    }
   ],
   "source": [
    "type(dic)"
   ]
  },
  {
   "cell_type": "code",
   "execution_count": 49,
   "id": "62370cae-7c89-45de-8efe-e62f51944000",
   "metadata": {},
   "outputs": [
    {
     "data": {
      "text/plain": [
       "dict_keys(['varsity', 'dept'])"
      ]
     },
     "execution_count": 49,
     "metadata": {},
     "output_type": "execute_result"
    }
   ],
   "source": [
    "dic.keys()"
   ]
  },
  {
   "cell_type": "code",
   "execution_count": 50,
   "id": "87e8140f-9ac3-45b1-b22a-1e0681e551ba",
   "metadata": {},
   "outputs": [
    {
     "data": {
      "text/plain": [
       "dict_values(['UAP', 'CSE'])"
      ]
     },
     "execution_count": 50,
     "metadata": {},
     "output_type": "execute_result"
    }
   ],
   "source": [
    "dic.values()"
   ]
  },
  {
   "cell_type": "code",
   "execution_count": 55,
   "id": "019c0d2d-e921-4fae-8dad-d8418059406a",
   "metadata": {},
   "outputs": [],
   "source": [
    "#data frame (Pandas)\n",
    "import pandas as pd\n",
    "df = pd.read_csv('industry.csv') #file name"
   ]
  },
  {
   "cell_type": "code",
   "execution_count": 60,
   "id": "ef52b190-4136-473f-8703-423e7ab9b938",
   "metadata": {},
   "outputs": [
    {
     "data": {
      "text/html": [
       "<div>\n",
       "<style scoped>\n",
       "    .dataframe tbody tr th:only-of-type {\n",
       "        vertical-align: middle;\n",
       "    }\n",
       "\n",
       "    .dataframe tbody tr th {\n",
       "        vertical-align: top;\n",
       "    }\n",
       "\n",
       "    .dataframe thead th {\n",
       "        text-align: right;\n",
       "    }\n",
       "</style>\n",
       "<table border=\"1\" class=\"dataframe\">\n",
       "  <thead>\n",
       "    <tr style=\"text-align: right;\">\n",
       "      <th></th>\n",
       "      <th>Industry</th>\n",
       "    </tr>\n",
       "  </thead>\n",
       "  <tbody>\n",
       "    <tr>\n",
       "      <th>0</th>\n",
       "      <td>Accounting/Finance</td>\n",
       "    </tr>\n",
       "    <tr>\n",
       "      <th>1</th>\n",
       "      <td>Advertising/Public Relations</td>\n",
       "    </tr>\n",
       "    <tr>\n",
       "      <th>2</th>\n",
       "      <td>Aerospace/Aviation</td>\n",
       "    </tr>\n",
       "    <tr>\n",
       "      <th>3</th>\n",
       "      <td>Arts/Entertainment/Publishing</td>\n",
       "    </tr>\n",
       "    <tr>\n",
       "      <th>4</th>\n",
       "      <td>Automotive</td>\n",
       "    </tr>\n",
       "    <tr>\n",
       "      <th>5</th>\n",
       "      <td>Banking/Mortgage</td>\n",
       "    </tr>\n",
       "    <tr>\n",
       "      <th>6</th>\n",
       "      <td>Business Development</td>\n",
       "    </tr>\n",
       "    <tr>\n",
       "      <th>7</th>\n",
       "      <td>Business Opportunity</td>\n",
       "    </tr>\n",
       "    <tr>\n",
       "      <th>8</th>\n",
       "      <td>Clerical/Administrative</td>\n",
       "    </tr>\n",
       "    <tr>\n",
       "      <th>9</th>\n",
       "      <td>Construction/Facilities</td>\n",
       "    </tr>\n",
       "    <tr>\n",
       "      <th>10</th>\n",
       "      <td>Consumer Goods</td>\n",
       "    </tr>\n",
       "    <tr>\n",
       "      <th>11</th>\n",
       "      <td>Customer Service</td>\n",
       "    </tr>\n",
       "    <tr>\n",
       "      <th>12</th>\n",
       "      <td>Education/Training</td>\n",
       "    </tr>\n",
       "    <tr>\n",
       "      <th>13</th>\n",
       "      <td>Energy/Utilities</td>\n",
       "    </tr>\n",
       "    <tr>\n",
       "      <th>14</th>\n",
       "      <td>Engineering</td>\n",
       "    </tr>\n",
       "    <tr>\n",
       "      <th>15</th>\n",
       "      <td>Government/Military</td>\n",
       "    </tr>\n",
       "    <tr>\n",
       "      <th>16</th>\n",
       "      <td>Green</td>\n",
       "    </tr>\n",
       "    <tr>\n",
       "      <th>17</th>\n",
       "      <td>Healthcare</td>\n",
       "    </tr>\n",
       "    <tr>\n",
       "      <th>18</th>\n",
       "      <td>Hospitality/Travel</td>\n",
       "    </tr>\n",
       "    <tr>\n",
       "      <th>19</th>\n",
       "      <td>Human Resources</td>\n",
       "    </tr>\n",
       "    <tr>\n",
       "      <th>20</th>\n",
       "      <td>Installation/Maintenance</td>\n",
       "    </tr>\n",
       "    <tr>\n",
       "      <th>21</th>\n",
       "      <td>Insurance</td>\n",
       "    </tr>\n",
       "    <tr>\n",
       "      <th>22</th>\n",
       "      <td>Internet</td>\n",
       "    </tr>\n",
       "    <tr>\n",
       "      <th>23</th>\n",
       "      <td>Job Search Aids</td>\n",
       "    </tr>\n",
       "    <tr>\n",
       "      <th>24</th>\n",
       "      <td>Law Enforcement/Security</td>\n",
       "    </tr>\n",
       "    <tr>\n",
       "      <th>25</th>\n",
       "      <td>Legal</td>\n",
       "    </tr>\n",
       "    <tr>\n",
       "      <th>26</th>\n",
       "      <td>Management/Executive</td>\n",
       "    </tr>\n",
       "    <tr>\n",
       "      <th>27</th>\n",
       "      <td>Manufacturing/Operations</td>\n",
       "    </tr>\n",
       "    <tr>\n",
       "      <th>28</th>\n",
       "      <td>Marketing</td>\n",
       "    </tr>\n",
       "    <tr>\n",
       "      <th>29</th>\n",
       "      <td>Non-Profit/Volunteer</td>\n",
       "    </tr>\n",
       "    <tr>\n",
       "      <th>30</th>\n",
       "      <td>Pharmaceutical/Biotech</td>\n",
       "    </tr>\n",
       "    <tr>\n",
       "      <th>31</th>\n",
       "      <td>Professional Services</td>\n",
       "    </tr>\n",
       "    <tr>\n",
       "      <th>32</th>\n",
       "      <td>QA/Quality Control</td>\n",
       "    </tr>\n",
       "    <tr>\n",
       "      <th>33</th>\n",
       "      <td>Real Estate</td>\n",
       "    </tr>\n",
       "    <tr>\n",
       "      <th>34</th>\n",
       "      <td>Restaurant/Food Service</td>\n",
       "    </tr>\n",
       "    <tr>\n",
       "      <th>35</th>\n",
       "      <td>Retail</td>\n",
       "    </tr>\n",
       "    <tr>\n",
       "      <th>36</th>\n",
       "      <td>Sales</td>\n",
       "    </tr>\n",
       "    <tr>\n",
       "      <th>37</th>\n",
       "      <td>Science/Research</td>\n",
       "    </tr>\n",
       "    <tr>\n",
       "      <th>38</th>\n",
       "      <td>Skilled Labor</td>\n",
       "    </tr>\n",
       "    <tr>\n",
       "      <th>39</th>\n",
       "      <td>Technology</td>\n",
       "    </tr>\n",
       "    <tr>\n",
       "      <th>40</th>\n",
       "      <td>Telecommunications</td>\n",
       "    </tr>\n",
       "    <tr>\n",
       "      <th>41</th>\n",
       "      <td>Transportation/Logistics</td>\n",
       "    </tr>\n",
       "    <tr>\n",
       "      <th>42</th>\n",
       "      <td>Other</td>\n",
       "    </tr>\n",
       "  </tbody>\n",
       "</table>\n",
       "</div>"
      ],
      "text/plain": [
       "                         Industry\n",
       "0              Accounting/Finance\n",
       "1    Advertising/Public Relations\n",
       "2              Aerospace/Aviation\n",
       "3   Arts/Entertainment/Publishing\n",
       "4                      Automotive\n",
       "5                Banking/Mortgage\n",
       "6            Business Development\n",
       "7            Business Opportunity\n",
       "8         Clerical/Administrative\n",
       "9         Construction/Facilities\n",
       "10                 Consumer Goods\n",
       "11               Customer Service\n",
       "12             Education/Training\n",
       "13               Energy/Utilities\n",
       "14                    Engineering\n",
       "15            Government/Military\n",
       "16                          Green\n",
       "17                     Healthcare\n",
       "18             Hospitality/Travel\n",
       "19                Human Resources\n",
       "20       Installation/Maintenance\n",
       "21                      Insurance\n",
       "22                       Internet\n",
       "23                Job Search Aids\n",
       "24       Law Enforcement/Security\n",
       "25                          Legal\n",
       "26           Management/Executive\n",
       "27       Manufacturing/Operations\n",
       "28                      Marketing\n",
       "29           Non-Profit/Volunteer\n",
       "30         Pharmaceutical/Biotech\n",
       "31          Professional Services\n",
       "32             QA/Quality Control\n",
       "33                    Real Estate\n",
       "34        Restaurant/Food Service\n",
       "35                         Retail\n",
       "36                          Sales\n",
       "37               Science/Research\n",
       "38                  Skilled Labor\n",
       "39                     Technology\n",
       "40             Telecommunications\n",
       "41       Transportation/Logistics\n",
       "42                          Other"
      ]
     },
     "execution_count": 60,
     "metadata": {},
     "output_type": "execute_result"
    }
   ],
   "source": [
    "df.head(43)"
   ]
  },
  {
   "cell_type": "code",
   "execution_count": 57,
   "id": "21a76fc5-2859-4969-94ac-864b6cb173af",
   "metadata": {},
   "outputs": [
    {
     "data": {
      "text/plain": [
       "(43, 1)"
      ]
     },
     "execution_count": 57,
     "metadata": {},
     "output_type": "execute_result"
    }
   ],
   "source": [
    "df.shape"
   ]
  },
  {
   "cell_type": "code",
   "execution_count": 61,
   "id": "c2ec3687-c5c6-415c-bf5d-747ff1f18357",
   "metadata": {},
   "outputs": [
    {
     "name": "stdout",
     "output_type": "stream",
     "text": [
      "<class 'pandas.core.frame.DataFrame'>\n",
      "RangeIndex: 43 entries, 0 to 42\n",
      "Data columns (total 1 columns):\n",
      " #   Column    Non-Null Count  Dtype \n",
      "---  ------    --------------  ----- \n",
      " 0   Industry  43 non-null     object\n",
      "dtypes: object(1)\n",
      "memory usage: 476.0+ bytes\n"
     ]
    }
   ],
   "source": [
    "df.info()"
   ]
  },
  {
   "cell_type": "code",
   "execution_count": 63,
   "id": "5079da7b-5afa-4946-88a7-385b4f0d986a",
   "metadata": {},
   "outputs": [],
   "source": [
    "#binary tyoes\n",
    "byte_arr = bytearray('ABCDEF', 'utf-8')"
   ]
  },
  {
   "cell_type": "code",
   "execution_count": 64,
   "id": "7a9380f5-5c99-4301-b92c-073c4fa93397",
   "metadata": {},
   "outputs": [
    {
     "data": {
      "text/plain": [
       "bytearray"
      ]
     },
     "execution_count": 64,
     "metadata": {},
     "output_type": "execute_result"
    }
   ],
   "source": [
    "type(byte_arr)"
   ]
  },
  {
   "cell_type": "code",
   "execution_count": 66,
   "id": "df91e217-f994-4ea0-9dc4-a67fe013dd54",
   "metadata": {},
   "outputs": [
    {
     "data": {
      "text/plain": [
       "bytearray(b'ABCDEF')"
      ]
     },
     "execution_count": 66,
     "metadata": {},
     "output_type": "execute_result"
    }
   ],
   "source": [
    "byte_arr"
   ]
  },
  {
   "cell_type": "code",
   "execution_count": 67,
   "id": "e8f59c8b-6aa5-416c-afeb-5207f0bbe74c",
   "metadata": {},
   "outputs": [
    {
     "data": {
      "text/plain": [
       "<memory at 0x0000017D95D5E080>"
      ]
     },
     "execution_count": 67,
     "metadata": {},
     "output_type": "execute_result"
    }
   ],
   "source": [
    "memoryview(byte_arr)"
   ]
  },
  {
   "cell_type": "code",
   "execution_count": 68,
   "id": "0b669919-cc38-4e5e-ae9d-30048ef7122b",
   "metadata": {},
   "outputs": [
    {
     "data": {
      "text/plain": [
       "65"
      ]
     },
     "execution_count": 68,
     "metadata": {},
     "output_type": "execute_result"
    }
   ],
   "source": [
    "memoryview(byte_arr)[0]"
   ]
  },
  {
   "cell_type": "code",
   "execution_count": 69,
   "id": "1542f650-f9af-4dd2-a0db-0d5ae146064e",
   "metadata": {},
   "outputs": [],
   "source": [
    "mv = memoryview(byte_arr)\n",
    "mv[0] = 97"
   ]
  },
  {
   "cell_type": "code",
   "execution_count": 70,
   "id": "9f06035c-a36f-4e18-a421-6364f7a9e6e2",
   "metadata": {},
   "outputs": [
    {
     "data": {
      "text/plain": [
       "97"
      ]
     },
     "execution_count": 70,
     "metadata": {},
     "output_type": "execute_result"
    }
   ],
   "source": [
    "memoryview(byte_arr)[0]"
   ]
  },
  {
   "cell_type": "code",
   "execution_count": 71,
   "id": "fb299ee2-3edf-4433-953b-3ba9fd4fc153",
   "metadata": {},
   "outputs": [
    {
     "data": {
      "text/plain": [
       "bytearray(b'aBCDEF')"
      ]
     },
     "execution_count": 71,
     "metadata": {},
     "output_type": "execute_result"
    }
   ],
   "source": [
    "byte_arr"
   ]
  },
  {
   "cell_type": "code",
   "execution_count": null,
   "id": "adf7d6b4-e7db-4a79-b70a-9e034fee7b9e",
   "metadata": {},
   "outputs": [],
   "source": []
  }
 ],
 "metadata": {
  "kernelspec": {
   "display_name": "Python 3 (ipykernel)",
   "language": "python",
   "name": "python3"
  },
  "language_info": {
   "codemirror_mode": {
    "name": "ipython",
    "version": 3
   },
   "file_extension": ".py",
   "mimetype": "text/x-python",
   "name": "python",
   "nbconvert_exporter": "python",
   "pygments_lexer": "ipython3",
   "version": "3.12.7"
  }
 },
 "nbformat": 4,
 "nbformat_minor": 5
}
