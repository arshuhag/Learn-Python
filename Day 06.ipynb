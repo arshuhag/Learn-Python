{
 "cells": [
  {
   "cell_type": "markdown",
   "id": "261646bb-191e-4dbb-9c06-d44c5e786707",
   "metadata": {},
   "source": [
    "# for loop"
   ]
  },
  {
   "cell_type": "code",
   "execution_count": 1,
   "id": "6ab3979b-ad1e-45fc-b098-838e3af33287",
   "metadata": {},
   "outputs": [
    {
     "name": "stdout",
     "output_type": "stream",
     "text": [
      "ai\n",
      "science\n",
      "data\n",
      "ml\n"
     ]
    }
   ],
   "source": [
    "subjects = [\"ai\",\"science\",\"data\",\"ml\"]\n",
    "for x in subjects:\n",
    "    print(x)"
   ]
  },
  {
   "cell_type": "code",
   "execution_count": 5,
   "id": "90e49692-43ba-44a1-8412-b4863206d5e5",
   "metadata": {},
   "outputs": [
    {
     "name": "stdout",
     "output_type": "stream",
     "text": [
      "-100\n",
      "-99\n",
      "-98\n",
      "-97\n",
      "-96\n",
      "-95\n",
      "-94\n",
      "-93\n",
      "-92\n",
      "-91\n",
      "-90\n",
      "-89\n",
      "-88\n",
      "-87\n",
      "-86\n",
      "-85\n",
      "-84\n",
      "-83\n",
      "-82\n",
      "-81\n",
      "-80\n",
      "-79\n",
      "-78\n",
      "-77\n",
      "-76\n",
      "-75\n",
      "-74\n",
      "-73\n",
      "-72\n",
      "-71\n",
      "-70\n",
      "-69\n",
      "-68\n",
      "-67\n",
      "-66\n",
      "-65\n",
      "-64\n",
      "-63\n",
      "-62\n",
      "-61\n",
      "-60\n",
      "-59\n",
      "-58\n",
      "-57\n",
      "-56\n",
      "-55\n",
      "-54\n",
      "-53\n",
      "-52\n",
      "-51\n",
      "-50\n",
      "-49\n",
      "-48\n",
      "-47\n",
      "-46\n",
      "-45\n",
      "-44\n",
      "-43\n",
      "-42\n",
      "-41\n",
      "-40\n",
      "-39\n",
      "-38\n",
      "-37\n",
      "-36\n",
      "-35\n",
      "-34\n",
      "-33\n",
      "-32\n",
      "-31\n",
      "-30\n",
      "-29\n",
      "-28\n",
      "-27\n",
      "-26\n",
      "-25\n",
      "-24\n",
      "-23\n",
      "-22\n",
      "-21\n",
      "-20\n",
      "-19\n",
      "-18\n",
      "-17\n",
      "-16\n",
      "-15\n",
      "-14\n",
      "-13\n",
      "-12\n",
      "-11\n"
     ]
    }
   ],
   "source": [
    "#problem 01\n",
    "for i in range(-100,-10,1):\n",
    "    print(i)"
   ]
  },
  {
   "cell_type": "code",
   "execution_count": 6,
   "id": "1c38bde0-21e5-4fe3-9e65-9455259897bd",
   "metadata": {},
   "outputs": [
    {
     "name": "stdout",
     "output_type": "stream",
     "text": [
      "1\n",
      "3\n",
      "5\n",
      "7\n",
      "9\n"
     ]
    }
   ],
   "source": [
    "for i in range (1, 10, 2):\n",
    "    print(i)"
   ]
  },
  {
   "cell_type": "code",
   "execution_count": 8,
   "id": "d3cb1f18-5078-4e08-b819-8065f35ff3e9",
   "metadata": {},
   "outputs": [
    {
     "name": "stdout",
     "output_type": "stream",
     "text": [
      "301\n"
     ]
    }
   ],
   "source": [
    "n = [2,3,4,55,60,77,100]\n",
    "total = 0\n",
    "for x in n:\n",
    "    total = total + x\n",
    "   #print(total,x)\n",
    "print(total)"
   ]
  },
  {
   "cell_type": "code",
   "execution_count": 3,
   "id": "4c74bf76-9918-4614-ab7d-38f80f0cc6a3",
   "metadata": {},
   "outputs": [
    {
     "name": "stdout",
     "output_type": "stream",
     "text": [
      "i 0\n",
      "love 1\n",
      "data 2\n",
      "science 3\n",
      "so 4\n",
      "much 5\n"
     ]
    }
   ],
   "source": [
    "data = 'i love data science so much'\n",
    "data = data.split()\n",
    "for i in range(len(data)):\n",
    "    print(data[i],i)"
   ]
  },
  {
   "cell_type": "markdown",
   "id": "2e57fd31-f720-4ff7-8524-24171fdd6a43",
   "metadata": {},
   "source": [
    "# While loop"
   ]
  },
  {
   "cell_type": "code",
   "execution_count": 2,
   "id": "0bb29081-1fe6-474c-a0c0-f4adf3aed44e",
   "metadata": {},
   "outputs": [
    {
     "name": "stdout",
     "output_type": "stream",
     "text": [
      "0 Hello\n",
      "1 Hello\n",
      "2 Hello\n",
      "3 Hello\n",
      "4 Hello\n",
      "5 Hello\n",
      "6 Hello\n",
      "7 Hello\n",
      "8 Hello\n",
      "9 Hello\n",
      "10 Hello\n"
     ]
    }
   ],
   "source": [
    "i = 0\n",
    "while (i <= 10):\n",
    "    print(i,'Hello')\n",
    "    i += 1"
   ]
  },
  {
   "cell_type": "code",
   "execution_count": 4,
   "id": "a5bbeabc-b1cc-4f3b-82f2-f1759b4d27e5",
   "metadata": {},
   "outputs": [
    {
     "name": "stdout",
     "output_type": "stream",
     "text": [
      "p\n",
      "y\n",
      "t\n",
      "h\n",
      "o\n",
      "n\n"
     ]
    }
   ],
   "source": [
    "data = 'python'\n",
    "i = 0\n",
    "while i<len(data):\n",
    "    print(data[i])\n",
    "    i = i + 1"
   ]
  },
  {
   "cell_type": "code",
   "execution_count": 5,
   "id": "b9d66d4b-1b4a-410a-96c8-f39e911cf765",
   "metadata": {},
   "outputs": [
    {
     "name": "stdout",
     "output_type": "stream",
     "text": [
      "i\n",
      " \n",
      "l\n",
      "o\n",
      "v\n",
      "e\n",
      " \n",
      "d\n",
      "a\n",
      "t\n",
      "a\n",
      " \n",
      "s\n",
      "c\n",
      "i\n",
      "e\n",
      "n\n",
      "c\n",
      "e\n",
      " \n",
      "s\n",
      "o\n",
      " \n",
      "m\n",
      "u\n",
      "c\n",
      "h\n"
     ]
    }
   ],
   "source": [
    "data = 'i love data science so much'\n",
    "i = 0\n",
    "while i<len(data):\n",
    "    print(data[i])\n",
    "    i = i + 1"
   ]
  },
  {
   "cell_type": "code",
   "execution_count": 6,
   "id": "715d329a-2377-45b6-84f5-4b78da6cecd7",
   "metadata": {},
   "outputs": [
    {
     "name": "stdout",
     "output_type": "stream",
     "text": [
      "i\n",
      "love\n",
      "data\n",
      "science\n",
      "so\n",
      "much\n"
     ]
    }
   ],
   "source": [
    "data = 'i love data science so much'\n",
    "data = data.split()\n",
    "i = 0\n",
    "while i<len(data):\n",
    "    print(data[i])\n",
    "    i = i + 1"
   ]
  },
  {
   "cell_type": "code",
   "execution_count": 5,
   "id": "6b49bf4e-7916-4b0a-ab3b-112ecfa66f28",
   "metadata": {},
   "outputs": [
    {
     "name": "stdout",
     "output_type": "stream",
     "text": [
      "0 2\n",
      "1 5\n",
      "2 9\n",
      "3 64\n",
      "4 124\n",
      "5 201\n",
      "6 301\n"
     ]
    }
   ],
   "source": [
    "n = [2,3,4,55,60,77,100]\n",
    "total = 0\n",
    "i = 0\n",
    "while(i<len(n)):\n",
    "    total = total + n[i]\n",
    "    print(i,total)\n",
    "    i += 1"
   ]
  },
  {
   "cell_type": "markdown",
   "id": "46e65a7d-5ab9-4bf2-9024-7798fe977ea7",
   "metadata": {},
   "source": [
    "# Nested loop"
   ]
  },
  {
   "cell_type": "code",
   "execution_count": 23,
   "id": "363c07d4-1d3f-46f9-ba77-57da79af79d9",
   "metadata": {},
   "outputs": [
    {
     "name": "stdout",
     "output_type": "stream",
     "text": [
      "# \n",
      "# # \n",
      "# # # \n",
      "# # # # \n"
     ]
    }
   ],
   "source": [
    "rows = 4\n",
    "#outer loop\n",
    "for x in range(1,rows+1):\n",
    "    #inner loop\n",
    "    for y in range(1,x+1):\n",
    "        print('#',end = ' ')\n",
    "    print('')"
   ]
  },
  {
   "cell_type": "code",
   "execution_count": null,
   "id": "98d02333-cd90-49cd-a0ce-807d73e0c5ea",
   "metadata": {},
   "outputs": [],
   "source": []
  }
 ],
 "metadata": {
  "kernelspec": {
   "display_name": "Python 3 (ipykernel)",
   "language": "python",
   "name": "python3"
  },
  "language_info": {
   "codemirror_mode": {
    "name": "ipython",
    "version": 3
   },
   "file_extension": ".py",
   "mimetype": "text/x-python",
   "name": "python",
   "nbconvert_exporter": "python",
   "pygments_lexer": "ipython3",
   "version": "3.12.7"
  }
 },
 "nbformat": 4,
 "nbformat_minor": 5
}
