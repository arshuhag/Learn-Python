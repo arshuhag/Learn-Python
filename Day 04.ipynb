{
 "cells": [
  {
   "cell_type": "markdown",
   "id": "87d96671-22a0-4bc7-90d2-a6a8188bba2e",
   "metadata": {},
   "source": [
    "# Operators "
   ]
  },
  {
   "cell_type": "code",
   "execution_count": 1,
   "id": "9fdfc46f-1bd0-4531-b6e6-db4bea7591af",
   "metadata": {},
   "outputs": [],
   "source": [
    "#assinging the variables\n",
    "x = 15\n",
    "y = 4\n",
    "z = 3"
   ]
  },
  {
   "cell_type": "code",
   "execution_count": 2,
   "id": "a13024bb-b7df-4cb5-afc8-68da19a7f974",
   "metadata": {},
   "outputs": [
    {
     "data": {
      "text/plain": [
       "19"
      ]
     },
     "execution_count": 2,
     "metadata": {},
     "output_type": "execute_result"
    }
   ],
   "source": [
    "x + y"
   ]
  },
  {
   "cell_type": "code",
   "execution_count": 3,
   "id": "045aa57c-3bee-4b7e-b19a-78ffadbafb5e",
   "metadata": {},
   "outputs": [
    {
     "data": {
      "text/plain": [
       "11"
      ]
     },
     "execution_count": 3,
     "metadata": {},
     "output_type": "execute_result"
    }
   ],
   "source": [
    "x - y"
   ]
  },
  {
   "cell_type": "code",
   "execution_count": 4,
   "id": "2040eaab-a414-4727-b669-4d34bb99c44f",
   "metadata": {},
   "outputs": [
    {
     "data": {
      "text/plain": [
       "3.75"
      ]
     },
     "execution_count": 4,
     "metadata": {},
     "output_type": "execute_result"
    }
   ],
   "source": [
    "x / y"
   ]
  },
  {
   "cell_type": "code",
   "execution_count": 5,
   "id": "98121fb8-af8a-411e-8951-909c36c094a2",
   "metadata": {},
   "outputs": [
    {
     "data": {
      "text/plain": [
       "60"
      ]
     },
     "execution_count": 5,
     "metadata": {},
     "output_type": "execute_result"
    }
   ],
   "source": [
    "x * y"
   ]
  },
  {
   "cell_type": "code",
   "execution_count": 6,
   "id": "dd8aaf8b-a39b-4061-8eec-38df94018bf7",
   "metadata": {},
   "outputs": [
    {
     "data": {
      "text/plain": [
       "4"
      ]
     },
     "execution_count": 6,
     "metadata": {},
     "output_type": "execute_result"
    }
   ],
   "source": [
    "2 ** 2"
   ]
  },
  {
   "cell_type": "code",
   "execution_count": 7,
   "id": "5fd79187-c05e-45be-9a68-14866f5eaf56",
   "metadata": {},
   "outputs": [
    {
     "data": {
      "text/plain": [
       "50625"
      ]
     },
     "execution_count": 7,
     "metadata": {},
     "output_type": "execute_result"
    }
   ],
   "source": [
    "x ** y"
   ]
  },
  {
   "cell_type": "code",
   "execution_count": 8,
   "id": "627e712d-f1bf-4d95-8431-1f8f834ca042",
   "metadata": {},
   "outputs": [
    {
     "data": {
      "text/plain": [
       "50625"
      ]
     },
     "execution_count": 8,
     "metadata": {},
     "output_type": "execute_result"
    }
   ],
   "source": [
    "15 * 15 * 15 * 15"
   ]
  },
  {
   "cell_type": "code",
   "execution_count": 9,
   "id": "70bcfaf0-4ac7-43eb-a891-140726bed085",
   "metadata": {},
   "outputs": [
    {
     "data": {
      "text/plain": [
       "3"
      ]
     },
     "execution_count": 9,
     "metadata": {},
     "output_type": "execute_result"
    }
   ],
   "source": [
    "x // y"
   ]
  },
  {
   "cell_type": "code",
   "execution_count": 10,
   "id": "b94fe557-c25d-4922-8f69-4edd5e7273c0",
   "metadata": {},
   "outputs": [
    {
     "data": {
      "text/plain": [
       "3"
      ]
     },
     "execution_count": 10,
     "metadata": {},
     "output_type": "execute_result"
    }
   ],
   "source": [
    "import math\n",
    "math.floor(x / y)"
   ]
  },
  {
   "cell_type": "code",
   "execution_count": 11,
   "id": "0c6f0aa5-33cf-4833-8eb1-e68d5d220c2f",
   "metadata": {},
   "outputs": [
    {
     "data": {
      "text/plain": [
       "True"
      ]
     },
     "execution_count": 11,
     "metadata": {},
     "output_type": "execute_result"
    }
   ],
   "source": [
    "# Identity operators\n",
    "x = 10\n",
    "y = 10\n",
    "x is y"
   ]
  },
  {
   "cell_type": "code",
   "execution_count": 12,
   "id": "db4078e4-51ad-4e98-9a78-1f782b325d6e",
   "metadata": {},
   "outputs": [
    {
     "data": {
      "text/plain": [
       "False"
      ]
     },
     "execution_count": 12,
     "metadata": {},
     "output_type": "execute_result"
    }
   ],
   "source": [
    "x = 101010\n",
    "y = 101010\n",
    "x is y"
   ]
  },
  {
   "cell_type": "code",
   "execution_count": 15,
   "id": "5f8a401f-23d4-4d4b-80e7-0715ba303c32",
   "metadata": {},
   "outputs": [
    {
     "data": {
      "text/plain": [
       "True"
      ]
     },
     "execution_count": 15,
     "metadata": {},
     "output_type": "execute_result"
    }
   ],
   "source": [
    "x = 101010\n",
    "y = x\n",
    "x is y"
   ]
  },
  {
   "cell_type": "code",
   "execution_count": 2,
   "id": "3e3e0221-916c-4320-9961-5d225340c253",
   "metadata": {},
   "outputs": [
    {
     "data": {
      "text/plain": [
       "True"
      ]
     },
     "execution_count": 2,
     "metadata": {},
     "output_type": "execute_result"
    }
   ],
   "source": [
    "x = 101010\n",
    "y = 101010\n",
    "x == y #compersion operator"
   ]
  },
  {
   "cell_type": "code",
   "execution_count": 3,
   "id": "730c2a38-2eb4-41b5-bacb-96153f125cfa",
   "metadata": {},
   "outputs": [],
   "source": [
    "x = 101010\n",
    "y = x\n",
    "z = 101010"
   ]
  },
  {
   "cell_type": "code",
   "execution_count": 4,
   "id": "0eb8822f-09d9-4966-ad0d-372747a7b462",
   "metadata": {},
   "outputs": [
    {
     "data": {
      "text/plain": [
       "True"
      ]
     },
     "execution_count": 4,
     "metadata": {},
     "output_type": "execute_result"
    }
   ],
   "source": [
    "x is y"
   ]
  },
  {
   "cell_type": "code",
   "execution_count": 5,
   "id": "8896c1c8-30b7-4574-b482-e101ba48c140",
   "metadata": {},
   "outputs": [
    {
     "data": {
      "text/plain": [
       "False"
      ]
     },
     "execution_count": 5,
     "metadata": {},
     "output_type": "execute_result"
    }
   ],
   "source": [
    "x is z"
   ]
  },
  {
   "cell_type": "code",
   "execution_count": 6,
   "id": "c1f675e8-8833-4d24-b28a-2318dba9537e",
   "metadata": {},
   "outputs": [
    {
     "data": {
      "text/plain": [
       "True"
      ]
     },
     "execution_count": 6,
     "metadata": {},
     "output_type": "execute_result"
    }
   ],
   "source": [
    "x == z"
   ]
  },
  {
   "cell_type": "code",
   "execution_count": 7,
   "id": "1616d518-d546-430a-82a1-865931793270",
   "metadata": {},
   "outputs": [
    {
     "data": {
      "text/plain": [
       "1613923460688"
      ]
     },
     "execution_count": 7,
     "metadata": {},
     "output_type": "execute_result"
    }
   ],
   "source": [
    "id(x)"
   ]
  },
  {
   "cell_type": "code",
   "execution_count": 8,
   "id": "76bb2a5f-5d81-4316-bd21-23b2bbd55743",
   "metadata": {},
   "outputs": [
    {
     "data": {
      "text/plain": [
       "1613923461840"
      ]
     },
     "execution_count": 8,
     "metadata": {},
     "output_type": "execute_result"
    }
   ],
   "source": [
    "id(z)"
   ]
  },
  {
   "cell_type": "code",
   "execution_count": 9,
   "id": "2d127d66-c20f-4c68-bdd9-ce53dc5abb1e",
   "metadata": {},
   "outputs": [
    {
     "data": {
      "text/plain": [
       "1613923460688"
      ]
     },
     "execution_count": 9,
     "metadata": {},
     "output_type": "execute_result"
    }
   ],
   "source": [
    "id(y)"
   ]
  },
  {
   "cell_type": "code",
   "execution_count": 10,
   "id": "e0c1c004-37b3-4574-8903-4fa1ca5a1765",
   "metadata": {},
   "outputs": [
    {
     "data": {
      "text/plain": [
       "True"
      ]
     },
     "execution_count": 10,
     "metadata": {},
     "output_type": "execute_result"
    }
   ],
   "source": [
    "x is not z"
   ]
  },
  {
   "cell_type": "code",
   "execution_count": 11,
   "id": "d79127ac-bdfe-4b01-b232-17494fda59b1",
   "metadata": {},
   "outputs": [
    {
     "data": {
      "text/plain": [
       "True"
      ]
     },
     "execution_count": 11,
     "metadata": {},
     "output_type": "execute_result"
    }
   ],
   "source": [
    "#Membership operator\n",
    "list1 = [1,2,3,4,5,6,7]\n",
    "1 in list1 #return true if the specified value is present"
   ]
  },
  {
   "cell_type": "code",
   "execution_count": 12,
   "id": "39d115d5-a26d-4eb5-b57b-2815c6e6d126",
   "metadata": {},
   "outputs": [
    {
     "data": {
      "text/plain": [
       "False"
      ]
     },
     "execution_count": 12,
     "metadata": {},
     "output_type": "execute_result"
    }
   ],
   "source": [
    "8 in list1"
   ]
  },
  {
   "cell_type": "code",
   "execution_count": 13,
   "id": "be6feb5a-d207-4c79-910c-d680eb2faa4a",
   "metadata": {},
   "outputs": [
    {
     "data": {
      "text/plain": [
       "True"
      ]
     },
     "execution_count": 13,
     "metadata": {},
     "output_type": "execute_result"
    }
   ],
   "source": [
    "9 not in list1"
   ]
  },
  {
   "cell_type": "code",
   "execution_count": 14,
   "id": "985d80e0-2005-4fda-8517-e5d35599bdfa",
   "metadata": {},
   "outputs": [
    {
     "data": {
      "text/plain": [
       "True"
      ]
     },
     "execution_count": 14,
     "metadata": {},
     "output_type": "execute_result"
    }
   ],
   "source": [
    "s1 = {1,5,2,7,8}\n",
    "5 in s1"
   ]
  },
  {
   "cell_type": "code",
   "execution_count": 15,
   "id": "6aa0204d-b3d1-42e6-a8c3-3c018f98bf16",
   "metadata": {},
   "outputs": [
    {
     "data": {
      "text/plain": [
       "True"
      ]
     },
     "execution_count": 15,
     "metadata": {},
     "output_type": "execute_result"
    }
   ],
   "source": [
    "st = 'Today is a sunny day'\n",
    "'day' in st"
   ]
  },
  {
   "cell_type": "code",
   "execution_count": null,
   "id": "4bf1ad07-ccce-41de-b767-ceff38aeb2f4",
   "metadata": {},
   "outputs": [],
   "source": [
    "#Bitwise operator\n",
    "x = 1010 # 10 \n",
    "y = 0101 # 5 \n",
    "x | y = 1111\n",
    "x & y = 0000"
   ]
  },
  {
   "cell_type": "code",
   "execution_count": 17,
   "id": "e8f90857-e000-48a0-a60f-84888b6de47f",
   "metadata": {},
   "outputs": [
    {
     "data": {
      "text/plain": [
       "15"
      ]
     },
     "execution_count": 17,
     "metadata": {},
     "output_type": "execute_result"
    }
   ],
   "source": [
    "x = 10\n",
    "y = 5\n",
    "x | y"
   ]
  },
  {
   "cell_type": "code",
   "execution_count": 18,
   "id": "72692c5b-899a-408f-9203-71e9efaeffbf",
   "metadata": {},
   "outputs": [
    {
     "data": {
      "text/plain": [
       "0"
      ]
     },
     "execution_count": 18,
     "metadata": {},
     "output_type": "execute_result"
    }
   ],
   "source": [
    "x & y"
   ]
  },
  {
   "cell_type": "code",
   "execution_count": null,
   "id": "99fdf699-2ddc-45d3-bc05-44d48ac42f1d",
   "metadata": {},
   "outputs": [],
   "source": []
  }
 ],
 "metadata": {
  "kernelspec": {
   "display_name": "Python 3 (ipykernel)",
   "language": "python",
   "name": "python3"
  },
  "language_info": {
   "codemirror_mode": {
    "name": "ipython",
    "version": 3
   },
   "file_extension": ".py",
   "mimetype": "text/x-python",
   "name": "python",
   "nbconvert_exporter": "python",
   "pygments_lexer": "ipython3",
   "version": "3.12.7"
  }
 },
 "nbformat": 4,
 "nbformat_minor": 5
}
