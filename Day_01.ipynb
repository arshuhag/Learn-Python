{
 "cells": [
  {
   "cell_type": "code",
   "execution_count": 1,
   "id": "127fdf93-f7f1-46d5-af07-dac7978d408a",
   "metadata": {
    "panel-layout": {
     "height": 51.140625,
     "visible": true,
     "width": 100
    }
   },
   "outputs": [
    {
     "data": {
      "text/plain": [
       "'data science'"
      ]
     },
     "execution_count": 1,
     "metadata": {},
     "output_type": "execute_result"
    }
   ],
   "source": [
    "'data science'"
   ]
  },
  {
   "cell_type": "code",
   "execution_count": 2,
   "id": "b3d27e0b-d20d-4b25-9ed6-30cf4ba0c64e",
   "metadata": {
    "panel-layout": {
     "height": 51.140625,
     "visible": true,
     "width": 100
    }
   },
   "outputs": [
    {
     "data": {
      "text/plain": [
       "'data science'"
      ]
     },
     "execution_count": 2,
     "metadata": {},
     "output_type": "execute_result"
    }
   ],
   "source": [
    "'data science'"
   ]
  },
  {
   "cell_type": "code",
   "execution_count": 10,
   "id": "c0bed7ac-e17e-4f41-be11-4c2e8c551bcc",
   "metadata": {
    "jupyter": {
     "source_hidden": true
    },
    "panel-layout": {
     "height": 0,
     "visible": true,
     "width": 100
    }
   },
   "outputs": [
    {
     "name": "stdout",
     "output_type": "stream",
     "text": [
      "Hello World & Welcome to Python learning|"
     ]
    }
   ],
   "source": [
    "print('Hello World', 'Welcome to Python learning', sep=' & ', end='|')"
   ]
  },
  {
   "cell_type": "code",
   "execution_count": 11,
   "id": "e5d4ac9d-7918-43a9-b8a1-a1dc07b649eb",
   "metadata": {
    "panel-layout": {
     "height": 0,
     "visible": true,
     "width": 100
    }
   },
   "outputs": [
    {
     "name": "stdout",
     "output_type": "stream",
     "text": [
      "Hello World\n"
     ]
    }
   ],
   "source": [
    "var = 'Hello World'\n",
    "print(var)"
   ]
  },
  {
   "cell_type": "code",
   "execution_count": 12,
   "id": "09fda462-79e8-4d00-a671-74d0c3352f98",
   "metadata": {
    "panel-layout": {
     "height": 0,
     "visible": true,
     "width": 100
    }
   },
   "outputs": [
    {
     "name": "stdout",
     "output_type": "stream",
     "text": [
      "Hello World\n",
      "My sentence is Hello World\n"
     ]
    }
   ],
   "source": [
    "var = 'Hello World'\n",
    "print(var)\n",
    "print('My sentence is '+ var)"
   ]
  },
  {
   "cell_type": "code",
   "execution_count": 13,
   "id": "edc1fed1-4bfc-484b-bdc3-248781247795",
   "metadata": {},
   "outputs": [
    {
     "data": {
      "text/plain": [
       "100"
      ]
     },
     "execution_count": 13,
     "metadata": {},
     "output_type": "execute_result"
    }
   ],
   "source": [
    "x = 100\n",
    "x"
   ]
  },
  {
   "cell_type": "code",
   "execution_count": 17,
   "id": "cdba0b4b-4465-4986-b099-347fa337f569",
   "metadata": {},
   "outputs": [
    {
     "data": {
      "text/plain": [
       "100"
      ]
     },
     "execution_count": 17,
     "metadata": {},
     "output_type": "execute_result"
    }
   ],
   "source": [
    "y = 100\n",
    "y"
   ]
  },
  {
   "cell_type": "code",
   "execution_count": 15,
   "id": "b1aa077a-899e-4f53-8f23-493cdcc75fce",
   "metadata": {},
   "outputs": [
    {
     "data": {
      "text/plain": [
       "140718574548504"
      ]
     },
     "execution_count": 15,
     "metadata": {},
     "output_type": "execute_result"
    }
   ],
   "source": [
    "id(x)"
   ]
  },
  {
   "cell_type": "code",
   "execution_count": 18,
   "id": "2edd1e35-1344-478d-b913-fabece595343",
   "metadata": {},
   "outputs": [
    {
     "data": {
      "text/plain": [
       "140718574548504"
      ]
     },
     "execution_count": 18,
     "metadata": {},
     "output_type": "execute_result"
    }
   ],
   "source": [
    "id(y)"
   ]
  },
  {
   "cell_type": "code",
   "execution_count": 20,
   "id": "66d606ff-9ecb-4542-857b-ac73893f986f",
   "metadata": {},
   "outputs": [
    {
     "data": {
      "text/plain": [
       "2519808838448"
      ]
     },
     "execution_count": 20,
     "metadata": {},
     "output_type": "execute_result"
    }
   ],
   "source": [
    "x = 1000\n",
    "y = 1000\n",
    "id(x)"
   ]
  },
  {
   "cell_type": "code",
   "execution_count": 21,
   "id": "f8fc4ec6-007d-4ffb-af91-39650dad83d0",
   "metadata": {},
   "outputs": [
    {
     "data": {
      "text/plain": [
       "2519808842384"
      ]
     },
     "execution_count": 21,
     "metadata": {},
     "output_type": "execute_result"
    }
   ],
   "source": [
    "id(y)"
   ]
  },
  {
   "cell_type": "code",
   "execution_count": 22,
   "id": "49bc39f7-b53d-4c3a-b608-4d4d573ed11b",
   "metadata": {},
   "outputs": [
    {
     "name": "stdout",
     "output_type": "stream",
     "text": [
      "Anisur\n"
     ]
    }
   ],
   "source": [
    "name = 'Anisur'\n",
    "print(name)"
   ]
  },
  {
   "cell_type": "code",
   "execution_count": 23,
   "id": "3be2a20b-89c3-4a72-a9aa-15692845b3b3",
   "metadata": {},
   "outputs": [
    {
     "data": {
      "text/plain": [
       "8"
      ]
     },
     "execution_count": 23,
     "metadata": {},
     "output_type": "execute_result"
    }
   ],
   "source": [
    "10-2"
   ]
  },
  {
   "cell_type": "code",
   "execution_count": 28,
   "id": "a62c1c9d-b4a4-482f-a33a-e8c7ceb512fd",
   "metadata": {},
   "outputs": [
    {
     "name": "stdout",
     "output_type": "stream",
     "text": [
      "10\n"
     ]
    }
   ],
   "source": [
    "x, y, z = 10,20,30\n",
    "print(x)"
   ]
  },
  {
   "cell_type": "code",
   "execution_count": 29,
   "id": "124f0d82-13e5-4c5d-b856-8f7dc6d3a578",
   "metadata": {},
   "outputs": [
    {
     "data": {
      "text/plain": [
       "20"
      ]
     },
     "execution_count": 29,
     "metadata": {},
     "output_type": "execute_result"
    }
   ],
   "source": [
    "x = 20\n",
    "x"
   ]
  },
  {
   "cell_type": "code",
   "execution_count": 30,
   "id": "2ab6fc8f-c9c1-4d2f-88ec-cd455faf5b8e",
   "metadata": {},
   "outputs": [
    {
     "data": {
      "text/plain": [
       "20"
      ]
     },
     "execution_count": 30,
     "metadata": {},
     "output_type": "execute_result"
    }
   ],
   "source": [
    "x"
   ]
  },
  {
   "cell_type": "code",
   "execution_count": 31,
   "id": "2dc94f98-6153-423d-acbf-140b7007177a",
   "metadata": {},
   "outputs": [
    {
     "data": {
      "text/plain": [
       "20"
      ]
     },
     "execution_count": 31,
     "metadata": {},
     "output_type": "execute_result"
    }
   ],
   "source": [
    "y"
   ]
  },
  {
   "cell_type": "code",
   "execution_count": 32,
   "id": "6b06f4b9-9bf4-4201-a2a2-2beb69588e7b",
   "metadata": {},
   "outputs": [
    {
     "data": {
      "text/plain": [
       "10"
      ]
     },
     "execution_count": 32,
     "metadata": {},
     "output_type": "execute_result"
    }
   ],
   "source": [
    "y = 10\n",
    "y"
   ]
  },
  {
   "cell_type": "code",
   "execution_count": 33,
   "id": "99ae884f-b7b5-44c5-ae0d-b6e6fb7b7ee6",
   "metadata": {},
   "outputs": [
    {
     "data": {
      "text/plain": [
       "20"
      ]
     },
     "execution_count": 33,
     "metadata": {},
     "output_type": "execute_result"
    }
   ],
   "source": [
    "x"
   ]
  },
  {
   "cell_type": "code",
   "execution_count": 34,
   "id": "ba0cbe45-f436-437e-8a81-0f98eab41a84",
   "metadata": {},
   "outputs": [
    {
     "data": {
      "text/plain": [
       "10"
      ]
     },
     "execution_count": 34,
     "metadata": {},
     "output_type": "execute_result"
    }
   ],
   "source": [
    "y"
   ]
  },
  {
   "cell_type": "code",
   "execution_count": 35,
   "id": "2a05f8d7-9827-422a-be5d-4ba1c9d389a2",
   "metadata": {},
   "outputs": [
    {
     "data": {
      "text/plain": [
       "15101094"
      ]
     },
     "execution_count": 35,
     "metadata": {},
     "output_type": "execute_result"
    }
   ],
   "source": [
    "university_id = 15101094\n",
    "university_id"
   ]
  },
  {
   "cell_type": "markdown",
   "id": "758f88d5-47d8-423d-b547-95506c536ac1",
   "metadata": {},
   "source": [
    "# local vs global #"
   ]
  },
  {
   "cell_type": "code",
   "execution_count": 39,
   "id": "100a09e9-e9a0-404b-9152-35e0d2ea4713",
   "metadata": {},
   "outputs": [
    {
     "name": "stdout",
     "output_type": "stream",
     "text": [
      "my num is :  500\n",
      "my num is :  1000\n"
     ]
    }
   ],
   "source": [
    "x = 1000 #global\n",
    "def func1():\n",
    "    x = 500 #local\n",
    "    print('my num is : ', x)\n",
    "func1()\n",
    "print('my num is : ', x)"
   ]
  },
  {
   "cell_type": "code",
   "execution_count": null,
   "id": "352ca3df-d132-48dc-bfbd-32167e5161e8",
   "metadata": {},
   "outputs": [],
   "source": []
  }
 ],
 "metadata": {
  "kernelspec": {
   "display_name": "Python 3 (ipykernel)",
   "language": "python",
   "name": "python3"
  },
  "language_info": {
   "codemirror_mode": {
    "name": "ipython",
    "version": 3
   },
   "file_extension": ".py",
   "mimetype": "text/x-python",
   "name": "python",
   "nbconvert_exporter": "python",
   "pygments_lexer": "ipython3",
   "version": "3.12.7"
  },
  "panel-cell-order": [
   "127fdf93-f7f1-46d5-af07-dac7978d408a",
   "b3d27e0b-d20d-4b25-9ed6-30cf4ba0c64e",
   "c0bed7ac-e17e-4f41-be11-4c2e8c551bcc",
   "e5d4ac9d-7918-43a9-b8a1-a1dc07b649eb",
   "09fda462-79e8-4d00-a671-74d0c3352f98"
  ]
 },
 "nbformat": 4,
 "nbformat_minor": 5
}
