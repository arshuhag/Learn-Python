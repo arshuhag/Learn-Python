{
 "cells": [
  {
   "cell_type": "markdown",
   "id": "16e46a77-d1b8-4322-9d77-36021c891e28",
   "metadata": {},
   "source": [
    "# List in python"
   ]
  },
  {
   "cell_type": "code",
   "execution_count": 26,
   "id": "fd4ec57f-3e3c-4c87-b009-a6c1d5ee856b",
   "metadata": {},
   "outputs": [
    {
     "data": {
      "text/plain": [
       "[2, 3, 4, 8]"
      ]
     },
     "execution_count": 26,
     "metadata": {},
     "output_type": "execute_result"
    }
   ],
   "source": [
    "l1 = [2,3,4,8]\n",
    "l1"
   ]
  },
  {
   "cell_type": "code",
   "execution_count": 27,
   "id": "067303cb-b141-433d-8175-f8f5081f3f6b",
   "metadata": {},
   "outputs": [
    {
     "data": {
      "text/plain": [
       "list"
      ]
     },
     "execution_count": 27,
     "metadata": {},
     "output_type": "execute_result"
    }
   ],
   "source": [
    "type(l1)"
   ]
  },
  {
   "cell_type": "code",
   "execution_count": 28,
   "id": "fdd05377-b3a5-48df-866e-137c528382cb",
   "metadata": {},
   "outputs": [
    {
     "data": {
      "text/plain": [
       "4"
      ]
     },
     "execution_count": 28,
     "metadata": {},
     "output_type": "execute_result"
    }
   ],
   "source": [
    "l1[2]"
   ]
  },
  {
   "cell_type": "code",
   "execution_count": 29,
   "id": "3b96aca9-b997-454e-8318-687a7796a19b",
   "metadata": {},
   "outputs": [
    {
     "data": {
      "text/plain": [
       "8"
      ]
     },
     "execution_count": 29,
     "metadata": {},
     "output_type": "execute_result"
    }
   ],
   "source": [
    "l1[-1]"
   ]
  },
  {
   "cell_type": "code",
   "execution_count": 30,
   "id": "f15479f2-30d2-45da-8abb-0678757bad40",
   "metadata": {},
   "outputs": [
    {
     "data": {
      "text/plain": [
       "2"
      ]
     },
     "execution_count": 30,
     "metadata": {},
     "output_type": "execute_result"
    }
   ],
   "source": [
    "l1[-4]"
   ]
  },
  {
   "cell_type": "code",
   "execution_count": 31,
   "id": "95de944c-8d76-46fb-9e9b-babaeb8ae491",
   "metadata": {},
   "outputs": [
    {
     "data": {
      "text/plain": [
       "[2, 3]"
      ]
     },
     "execution_count": 31,
     "metadata": {},
     "output_type": "execute_result"
    }
   ],
   "source": [
    "l1[0:2]"
   ]
  },
  {
   "cell_type": "code",
   "execution_count": 32,
   "id": "6c8c7336-47e1-4918-83a3-8e0ae7c8d400",
   "metadata": {},
   "outputs": [],
   "source": [
    "l1[0] = 5"
   ]
  },
  {
   "cell_type": "code",
   "execution_count": 33,
   "id": "ee406b9b-5e77-4982-9747-1dde0b62552d",
   "metadata": {},
   "outputs": [
    {
     "data": {
      "text/plain": [
       "[5, 3, 4, 8]"
      ]
     },
     "execution_count": 33,
     "metadata": {},
     "output_type": "execute_result"
    }
   ],
   "source": [
    "l1"
   ]
  },
  {
   "cell_type": "code",
   "execution_count": 34,
   "id": "a8e00198-3fea-4e4b-9cc9-a882b92e63de",
   "metadata": {},
   "outputs": [],
   "source": [
    "l1[0] = 'data science'"
   ]
  },
  {
   "cell_type": "code",
   "execution_count": 35,
   "id": "417f187c-290d-4673-949f-0439d4dd6863",
   "metadata": {},
   "outputs": [
    {
     "data": {
      "text/plain": [
       "['data science', 3, 4, 8]"
      ]
     },
     "execution_count": 35,
     "metadata": {},
     "output_type": "execute_result"
    }
   ],
   "source": [
    "l1"
   ]
  },
  {
   "cell_type": "code",
   "execution_count": 36,
   "id": "d3dd0688-b648-4726-a927-ee9e4c1f14eb",
   "metadata": {},
   "outputs": [],
   "source": [
    "l1.append(9)"
   ]
  },
  {
   "cell_type": "code",
   "execution_count": 37,
   "id": "68057be0-05f0-4cfd-ac54-fb279bb8ff3b",
   "metadata": {},
   "outputs": [
    {
     "data": {
      "text/plain": [
       "['data science', 3, 4, 8, 9]"
      ]
     },
     "execution_count": 37,
     "metadata": {},
     "output_type": "execute_result"
    }
   ],
   "source": [
    "l1"
   ]
  },
  {
   "cell_type": "code",
   "execution_count": 38,
   "id": "b141f492-07ee-4a9b-a1f5-0dc1e789cdad",
   "metadata": {},
   "outputs": [],
   "source": [
    "l1.append('python')"
   ]
  },
  {
   "cell_type": "code",
   "execution_count": 39,
   "id": "75399bc6-7ac7-4ce9-964e-da9d14d80772",
   "metadata": {},
   "outputs": [
    {
     "data": {
      "text/plain": [
       "['data science', 3, 4, 8, 9, 'python']"
      ]
     },
     "execution_count": 39,
     "metadata": {},
     "output_type": "execute_result"
    }
   ],
   "source": [
    "l1"
   ]
  },
  {
   "cell_type": "code",
   "execution_count": 40,
   "id": "069df5ca-a058-44b9-af92-2ee05bdc31a5",
   "metadata": {},
   "outputs": [],
   "source": [
    "l1.append(3)"
   ]
  },
  {
   "cell_type": "code",
   "execution_count": 41,
   "id": "4fabd23c-ce4c-4785-922c-d179a69fb7df",
   "metadata": {},
   "outputs": [
    {
     "data": {
      "text/plain": [
       "['data science', 3, 4, 8, 9, 'python', 3]"
      ]
     },
     "execution_count": 41,
     "metadata": {},
     "output_type": "execute_result"
    }
   ],
   "source": [
    "l1"
   ]
  },
  {
   "cell_type": "code",
   "execution_count": 42,
   "id": "34015133-6043-41ad-82f9-677339ff2c8c",
   "metadata": {},
   "outputs": [
    {
     "data": {
      "text/plain": [
       "120"
      ]
     },
     "execution_count": 42,
     "metadata": {},
     "output_type": "execute_result"
    }
   ],
   "source": [
    "import sys\n",
    "sys.getsizeof(l1)"
   ]
  },
  {
   "cell_type": "code",
   "execution_count": 43,
   "id": "94b59329-277e-4542-aa25-4cd6b14d0a18",
   "metadata": {},
   "outputs": [
    {
     "data": {
      "text/plain": [
       "3"
      ]
     },
     "execution_count": 43,
     "metadata": {},
     "output_type": "execute_result"
    }
   ],
   "source": [
    "l1.pop()"
   ]
  },
  {
   "cell_type": "code",
   "execution_count": 44,
   "id": "c8cabfcc-87c7-4b88-92d3-eaab32f20090",
   "metadata": {},
   "outputs": [
    {
     "data": {
      "text/plain": [
       "['data science', 3, 4, 8, 9, 'python']"
      ]
     },
     "execution_count": 44,
     "metadata": {},
     "output_type": "execute_result"
    }
   ],
   "source": [
    "l1"
   ]
  },
  {
   "cell_type": "code",
   "execution_count": 45,
   "id": "20590c70-44c5-4f42-8dba-1da00ac2fae9",
   "metadata": {},
   "outputs": [
    {
     "data": {
      "text/plain": [
       "'data science'"
      ]
     },
     "execution_count": 45,
     "metadata": {},
     "output_type": "execute_result"
    }
   ],
   "source": [
    "l1.pop(0)"
   ]
  },
  {
   "cell_type": "code",
   "execution_count": 46,
   "id": "3bc13a57-3e6f-465b-ab01-0ee76d801c2b",
   "metadata": {},
   "outputs": [
    {
     "data": {
      "text/plain": [
       "[3, 4, 8, 9, 'python']"
      ]
     },
     "execution_count": 46,
     "metadata": {},
     "output_type": "execute_result"
    }
   ],
   "source": [
    "l1"
   ]
  },
  {
   "cell_type": "code",
   "execution_count": 60,
   "id": "b5dc0537-7b11-44b3-8477-fb28c5dc6f3e",
   "metadata": {},
   "outputs": [],
   "source": [
    "# Creating list using list constructor\n",
    "l2 = [('ai',12,(1,2,3,4))]"
   ]
  },
  {
   "cell_type": "code",
   "execution_count": 61,
   "id": "caf15408-4f4c-4c23-86d8-2b9bb41c1faf",
   "metadata": {},
   "outputs": [
    {
     "data": {
      "text/plain": [
       "[('ai', 12, (1, 2, 3, 4))]"
      ]
     },
     "execution_count": 61,
     "metadata": {},
     "output_type": "execute_result"
    }
   ],
   "source": [
    "l2"
   ]
  },
  {
   "cell_type": "code",
   "execution_count": 62,
   "id": "23db504d-ea99-4eb7-9cf6-c37718656b29",
   "metadata": {},
   "outputs": [
    {
     "data": {
      "text/plain": [
       "list"
      ]
     },
     "execution_count": 62,
     "metadata": {},
     "output_type": "execute_result"
    }
   ],
   "source": [
    "type(l2)"
   ]
  },
  {
   "cell_type": "code",
   "execution_count": 71,
   "id": "7041fd85-c82e-48c7-bb3f-cce10f91471c",
   "metadata": {},
   "outputs": [
    {
     "data": {
      "text/plain": [
       "(1, 2, 3, 4)"
      ]
     },
     "execution_count": 71,
     "metadata": {},
     "output_type": "execute_result"
    }
   ],
   "source": [
    "l2[0][2]"
   ]
  },
  {
   "cell_type": "code",
   "execution_count": 73,
   "id": "acd0f8ec-cff7-4683-af87-3baeb1bd09b3",
   "metadata": {},
   "outputs": [
    {
     "data": {
      "text/plain": [
       "4"
      ]
     },
     "execution_count": 73,
     "metadata": {},
     "output_type": "execute_result"
    }
   ],
   "source": [
    "l2[0][2][3]"
   ]
  },
  {
   "cell_type": "code",
   "execution_count": 74,
   "id": "bfe314bc-fe7b-4b00-bd52-a12a04427e48",
   "metadata": {},
   "outputs": [
    {
     "name": "stdin",
     "output_type": "stream",
     "text": [
      "Enter your total index:  3\n",
      " 1\n"
     ]
    },
    {
     "name": "stdout",
     "output_type": "stream",
     "text": [
      "['1']\n"
     ]
    },
    {
     "name": "stdin",
     "output_type": "stream",
     "text": [
      " 2\n"
     ]
    },
    {
     "name": "stdout",
     "output_type": "stream",
     "text": [
      "['1', '2']\n"
     ]
    },
    {
     "name": "stdin",
     "output_type": "stream",
     "text": [
      " 3\n"
     ]
    },
    {
     "name": "stdout",
     "output_type": "stream",
     "text": [
      "['1', '2', '3']\n"
     ]
    }
   ],
   "source": [
    "#input list from user\n",
    "l3 = []\n",
    "n = int(input('Enter your total index: '))\n",
    "for i in range(n):\n",
    "    new = input()\n",
    "    l3.append(new)\n",
    "    print(l3)"
   ]
  },
  {
   "cell_type": "code",
   "execution_count": 75,
   "id": "c5f7204f-3321-4d8e-8575-711e12af118b",
   "metadata": {},
   "outputs": [
    {
     "name": "stdin",
     "output_type": "stream",
     "text": [
      "Enter your total index:  3\n",
      " 1\n",
      " 2\n",
      " 5\n"
     ]
    },
    {
     "name": "stdout",
     "output_type": "stream",
     "text": [
      "['1', '2', '5']\n"
     ]
    }
   ],
   "source": [
    "#input list from user\n",
    "l3 = []\n",
    "n = int(input('Enter your total index: '))\n",
    "for i in range(n):\n",
    "    new = input()\n",
    "    l3.append(new)\n",
    "print(l3)"
   ]
  },
  {
   "cell_type": "code",
   "execution_count": null,
   "id": "faed0e3f-242f-4a2e-8116-139a9a0fb771",
   "metadata": {},
   "outputs": [],
   "source": []
  }
 ],
 "metadata": {
  "kernelspec": {
   "display_name": "Python 3 (ipykernel)",
   "language": "python",
   "name": "python3"
  },
  "language_info": {
   "codemirror_mode": {
    "name": "ipython",
    "version": 3
   },
   "file_extension": ".py",
   "mimetype": "text/x-python",
   "name": "python",
   "nbconvert_exporter": "python",
   "pygments_lexer": "ipython3",
   "version": "3.12.7"
  }
 },
 "nbformat": 4,
 "nbformat_minor": 5
}
