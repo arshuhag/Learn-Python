{
 "cells": [
  {
   "cell_type": "markdown",
   "id": "16e46a77-d1b8-4322-9d77-36021c891e28",
   "metadata": {},
   "source": [
    "# List in python"
   ]
  },
  {
   "cell_type": "code",
   "execution_count": 26,
   "id": "fd4ec57f-3e3c-4c87-b009-a6c1d5ee856b",
   "metadata": {},
   "outputs": [
    {
     "data": {
      "text/plain": [
       "[2, 3, 4, 8]"
      ]
     },
     "execution_count": 26,
     "metadata": {},
     "output_type": "execute_result"
    }
   ],
   "source": [
    "l1 = [2,3,4,8]\n",
    "l1"
   ]
  },
  {
   "cell_type": "code",
   "execution_count": 27,
   "id": "067303cb-b141-433d-8175-f8f5081f3f6b",
   "metadata": {},
   "outputs": [
    {
     "data": {
      "text/plain": [
       "list"
      ]
     },
     "execution_count": 27,
     "metadata": {},
     "output_type": "execute_result"
    }
   ],
   "source": [
    "type(l1)"
   ]
  },
  {
   "cell_type": "code",
   "execution_count": 28,
   "id": "fdd05377-b3a5-48df-866e-137c528382cb",
   "metadata": {},
   "outputs": [
    {
     "data": {
      "text/plain": [
       "4"
      ]
     },
     "execution_count": 28,
     "metadata": {},
     "output_type": "execute_result"
    }
   ],
   "source": [
    "l1[2]"
   ]
  },
  {
   "cell_type": "code",
   "execution_count": 29,
   "id": "3b96aca9-b997-454e-8318-687a7796a19b",
   "metadata": {},
   "outputs": [
    {
     "data": {
      "text/plain": [
       "8"
      ]
     },
     "execution_count": 29,
     "metadata": {},
     "output_type": "execute_result"
    }
   ],
   "source": [
    "l1[-1]"
   ]
  },
  {
   "cell_type": "code",
   "execution_count": 30,
   "id": "f15479f2-30d2-45da-8abb-0678757bad40",
   "metadata": {},
   "outputs": [
    {
     "data": {
      "text/plain": [
       "2"
      ]
     },
     "execution_count": 30,
     "metadata": {},
     "output_type": "execute_result"
    }
   ],
   "source": [
    "l1[-4]"
   ]
  },
  {
   "cell_type": "code",
   "execution_count": 31,
   "id": "95de944c-8d76-46fb-9e9b-babaeb8ae491",
   "metadata": {},
   "outputs": [
    {
     "data": {
      "text/plain": [
       "[2, 3]"
      ]
     },
     "execution_count": 31,
     "metadata": {},
     "output_type": "execute_result"
    }
   ],
   "source": [
    "l1[0:2]"
   ]
  },
  {
   "cell_type": "code",
   "execution_count": 32,
   "id": "6c8c7336-47e1-4918-83a3-8e0ae7c8d400",
   "metadata": {},
   "outputs": [],
   "source": [
    "l1[0] = 5"
   ]
  },
  {
   "cell_type": "code",
   "execution_count": 33,
   "id": "ee406b9b-5e77-4982-9747-1dde0b62552d",
   "metadata": {},
   "outputs": [
    {
     "data": {
      "text/plain": [
       "[5, 3, 4, 8]"
      ]
     },
     "execution_count": 33,
     "metadata": {},
     "output_type": "execute_result"
    }
   ],
   "source": [
    "l1"
   ]
  },
  {
   "cell_type": "code",
   "execution_count": 34,
   "id": "a8e00198-3fea-4e4b-9cc9-a882b92e63de",
   "metadata": {},
   "outputs": [],
   "source": [
    "l1[0] = 'data science'"
   ]
  },
  {
   "cell_type": "code",
   "execution_count": 35,
   "id": "417f187c-290d-4673-949f-0439d4dd6863",
   "metadata": {},
   "outputs": [
    {
     "data": {
      "text/plain": [
       "['data science', 3, 4, 8]"
      ]
     },
     "execution_count": 35,
     "metadata": {},
     "output_type": "execute_result"
    }
   ],
   "source": [
    "l1"
   ]
  },
  {
   "cell_type": "code",
   "execution_count": 36,
   "id": "d3dd0688-b648-4726-a927-ee9e4c1f14eb",
   "metadata": {},
   "outputs": [],
   "source": [
    "l1.append(9)"
   ]
  },
  {
   "cell_type": "code",
   "execution_count": 37,
   "id": "68057be0-05f0-4cfd-ac54-fb279bb8ff3b",
   "metadata": {},
   "outputs": [
    {
     "data": {
      "text/plain": [
       "['data science', 3, 4, 8, 9]"
      ]
     },
     "execution_count": 37,
     "metadata": {},
     "output_type": "execute_result"
    }
   ],
   "source": [
    "l1"
   ]
  },
  {
   "cell_type": "code",
   "execution_count": 38,
   "id": "b141f492-07ee-4a9b-a1f5-0dc1e789cdad",
   "metadata": {},
   "outputs": [],
   "source": [
    "l1.append('python')"
   ]
  },
  {
   "cell_type": "code",
   "execution_count": 39,
   "id": "75399bc6-7ac7-4ce9-964e-da9d14d80772",
   "metadata": {},
   "outputs": [
    {
     "data": {
      "text/plain": [
       "['data science', 3, 4, 8, 9, 'python']"
      ]
     },
     "execution_count": 39,
     "metadata": {},
     "output_type": "execute_result"
    }
   ],
   "source": [
    "l1"
   ]
  },
  {
   "cell_type": "code",
   "execution_count": 40,
   "id": "069df5ca-a058-44b9-af92-2ee05bdc31a5",
   "metadata": {},
   "outputs": [],
   "source": [
    "l1.append(3)"
   ]
  },
  {
   "cell_type": "code",
   "execution_count": 41,
   "id": "4fabd23c-ce4c-4785-922c-d179a69fb7df",
   "metadata": {},
   "outputs": [
    {
     "data": {
      "text/plain": [
       "['data science', 3, 4, 8, 9, 'python', 3]"
      ]
     },
     "execution_count": 41,
     "metadata": {},
     "output_type": "execute_result"
    }
   ],
   "source": [
    "l1"
   ]
  },
  {
   "cell_type": "code",
   "execution_count": 42,
   "id": "34015133-6043-41ad-82f9-677339ff2c8c",
   "metadata": {},
   "outputs": [
    {
     "data": {
      "text/plain": [
       "120"
      ]
     },
     "execution_count": 42,
     "metadata": {},
     "output_type": "execute_result"
    }
   ],
   "source": [
    "import sys\n",
    "sys.getsizeof(l1)"
   ]
  },
  {
   "cell_type": "code",
   "execution_count": 43,
   "id": "94b59329-277e-4542-aa25-4cd6b14d0a18",
   "metadata": {},
   "outputs": [
    {
     "data": {
      "text/plain": [
       "3"
      ]
     },
     "execution_count": 43,
     "metadata": {},
     "output_type": "execute_result"
    }
   ],
   "source": [
    "l1.pop()"
   ]
  },
  {
   "cell_type": "code",
   "execution_count": 44,
   "id": "c8cabfcc-87c7-4b88-92d3-eaab32f20090",
   "metadata": {},
   "outputs": [
    {
     "data": {
      "text/plain": [
       "['data science', 3, 4, 8, 9, 'python']"
      ]
     },
     "execution_count": 44,
     "metadata": {},
     "output_type": "execute_result"
    }
   ],
   "source": [
    "l1"
   ]
  },
  {
   "cell_type": "code",
   "execution_count": 45,
   "id": "20590c70-44c5-4f42-8dba-1da00ac2fae9",
   "metadata": {},
   "outputs": [
    {
     "data": {
      "text/plain": [
       "'data science'"
      ]
     },
     "execution_count": 45,
     "metadata": {},
     "output_type": "execute_result"
    }
   ],
   "source": [
    "l1.pop(0)"
   ]
  },
  {
   "cell_type": "code",
   "execution_count": 46,
   "id": "3bc13a57-3e6f-465b-ab01-0ee76d801c2b",
   "metadata": {},
   "outputs": [
    {
     "data": {
      "text/plain": [
       "[3, 4, 8, 9, 'python']"
      ]
     },
     "execution_count": 46,
     "metadata": {},
     "output_type": "execute_result"
    }
   ],
   "source": [
    "l1"
   ]
  },
  {
   "cell_type": "code",
   "execution_count": 60,
   "id": "b5dc0537-7b11-44b3-8477-fb28c5dc6f3e",
   "metadata": {},
   "outputs": [],
   "source": [
    "# Creating list using list constructor\n",
    "l2 = [('ai',12,(1,2,3,4))]"
   ]
  },
  {
   "cell_type": "code",
   "execution_count": 61,
   "id": "caf15408-4f4c-4c23-86d8-2b9bb41c1faf",
   "metadata": {},
   "outputs": [
    {
     "data": {
      "text/plain": [
       "[('ai', 12, (1, 2, 3, 4))]"
      ]
     },
     "execution_count": 61,
     "metadata": {},
     "output_type": "execute_result"
    }
   ],
   "source": [
    "l2"
   ]
  },
  {
   "cell_type": "code",
   "execution_count": 62,
   "id": "23db504d-ea99-4eb7-9cf6-c37718656b29",
   "metadata": {},
   "outputs": [
    {
     "data": {
      "text/plain": [
       "list"
      ]
     },
     "execution_count": 62,
     "metadata": {},
     "output_type": "execute_result"
    }
   ],
   "source": [
    "type(l2)"
   ]
  },
  {
   "cell_type": "code",
   "execution_count": 71,
   "id": "7041fd85-c82e-48c7-bb3f-cce10f91471c",
   "metadata": {},
   "outputs": [
    {
     "data": {
      "text/plain": [
       "(1, 2, 3, 4)"
      ]
     },
     "execution_count": 71,
     "metadata": {},
     "output_type": "execute_result"
    }
   ],
   "source": [
    "l2[0][2]"
   ]
  },
  {
   "cell_type": "code",
   "execution_count": 73,
   "id": "acd0f8ec-cff7-4683-af87-3baeb1bd09b3",
   "metadata": {},
   "outputs": [
    {
     "data": {
      "text/plain": [
       "4"
      ]
     },
     "execution_count": 73,
     "metadata": {},
     "output_type": "execute_result"
    }
   ],
   "source": [
    "l2[0][2][3]"
   ]
  },
  {
   "cell_type": "code",
   "execution_count": 74,
   "id": "bfe314bc-fe7b-4b00-bd52-a12a04427e48",
   "metadata": {},
   "outputs": [
    {
     "name": "stdin",
     "output_type": "stream",
     "text": [
      "Enter your total index:  3\n",
      " 1\n"
     ]
    },
    {
     "name": "stdout",
     "output_type": "stream",
     "text": [
      "['1']\n"
     ]
    },
    {
     "name": "stdin",
     "output_type": "stream",
     "text": [
      " 2\n"
     ]
    },
    {
     "name": "stdout",
     "output_type": "stream",
     "text": [
      "['1', '2']\n"
     ]
    },
    {
     "name": "stdin",
     "output_type": "stream",
     "text": [
      " 3\n"
     ]
    },
    {
     "name": "stdout",
     "output_type": "stream",
     "text": [
      "['1', '2', '3']\n"
     ]
    }
   ],
   "source": [
    "#input list from user\n",
    "l3 = []\n",
    "n = int(input('Enter your total index: '))\n",
    "for i in range(n):\n",
    "    new = input()\n",
    "    l3.append(new)\n",
    "    print(l3)"
   ]
  },
  {
   "cell_type": "code",
   "execution_count": 75,
   "id": "c5f7204f-3321-4d8e-8575-711e12af118b",
   "metadata": {},
   "outputs": [
    {
     "name": "stdin",
     "output_type": "stream",
     "text": [
      "Enter your total index:  3\n",
      " 1\n",
      " 2\n",
      " 5\n"
     ]
    },
    {
     "name": "stdout",
     "output_type": "stream",
     "text": [
      "['1', '2', '5']\n"
     ]
    }
   ],
   "source": [
    "#input list from user\n",
    "l3 = []\n",
    "n = int(input('Enter your total index: '))\n",
    "for i in range(n):\n",
    "    new = input()\n",
    "    l3.append(new)\n",
    "print(l3)"
   ]
  },
  {
   "cell_type": "markdown",
   "id": "6c00e02e-5de8-46a8-85d6-d8496858928e",
   "metadata": {},
   "source": [
    "# List Methods"
   ]
  },
  {
   "cell_type": "code",
   "execution_count": 1,
   "id": "ca5d7013-3c37-40a9-92fd-39afaaef5878",
   "metadata": {},
   "outputs": [],
   "source": [
    "# list\n",
    "list1 = ['ai','ds','cs',150,20,True,[3,4],(1,2)]"
   ]
  },
  {
   "cell_type": "code",
   "execution_count": 2,
   "id": "12bff560-09fe-4687-90b8-7594c47f085f",
   "metadata": {},
   "outputs": [
    {
     "data": {
      "text/plain": [
       "['ai', 'ds', 'cs', 150, 20, True, [3, 4], (1, 2)]"
      ]
     },
     "execution_count": 2,
     "metadata": {},
     "output_type": "execute_result"
    }
   ],
   "source": [
    "list1"
   ]
  },
  {
   "cell_type": "code",
   "execution_count": 3,
   "id": "5f59b1ab-cad5-464d-a2eb-0a306183a95f",
   "metadata": {},
   "outputs": [
    {
     "data": {
      "text/plain": [
       "list"
      ]
     },
     "execution_count": 3,
     "metadata": {},
     "output_type": "execute_result"
    }
   ],
   "source": [
    "type(list1)"
   ]
  },
  {
   "cell_type": "code",
   "execution_count": 4,
   "id": "3fabacba-9a37-408c-8ee6-874725396b80",
   "metadata": {},
   "outputs": [
    {
     "data": {
      "text/plain": [
       "(1, 2)"
      ]
     },
     "execution_count": 4,
     "metadata": {},
     "output_type": "execute_result"
    }
   ],
   "source": [
    "list1[-1]"
   ]
  },
  {
   "cell_type": "code",
   "execution_count": 5,
   "id": "e5f34f5d-73ac-4a11-89d8-8a39ec93cae9",
   "metadata": {},
   "outputs": [
    {
     "data": {
      "text/plain": [
       "1"
      ]
     },
     "execution_count": 5,
     "metadata": {},
     "output_type": "execute_result"
    }
   ],
   "source": [
    "list1[-1][0]"
   ]
  },
  {
   "cell_type": "markdown",
   "id": "4da852cf-ac02-461d-85ce-4a739da0ba0d",
   "metadata": {},
   "source": [
    "# copy()"
   ]
  },
  {
   "cell_type": "code",
   "execution_count": 6,
   "id": "b7d3dcb0-375a-46d2-96c0-51e9eb7d8378",
   "metadata": {},
   "outputs": [],
   "source": [
    "list2 = list1"
   ]
  },
  {
   "cell_type": "code",
   "execution_count": 7,
   "id": "99654f45-4ee9-4d91-810e-496d9d4a80ee",
   "metadata": {},
   "outputs": [
    {
     "data": {
      "text/plain": [
       "['ai', 'ds', 'cs', 150, 20, True, [3, 4], (1, 2)]"
      ]
     },
     "execution_count": 7,
     "metadata": {},
     "output_type": "execute_result"
    }
   ],
   "source": [
    "list1"
   ]
  },
  {
   "cell_type": "code",
   "execution_count": 8,
   "id": "ab61e7e6-05dd-4c38-94ab-75ac519db208",
   "metadata": {},
   "outputs": [
    {
     "data": {
      "text/plain": [
       "['ai', 'ds', 'cs', 150, 20, True, [3, 4], (1, 2)]"
      ]
     },
     "execution_count": 8,
     "metadata": {},
     "output_type": "execute_result"
    }
   ],
   "source": [
    "list2"
   ]
  },
  {
   "cell_type": "code",
   "execution_count": 9,
   "id": "e0dbd9af-91da-4e70-868f-c63a61876033",
   "metadata": {},
   "outputs": [],
   "source": [
    "list3 = list1.copy()"
   ]
  },
  {
   "cell_type": "code",
   "execution_count": 10,
   "id": "ad8b595e-7a60-42b5-821c-6e4db4ee6279",
   "metadata": {},
   "outputs": [
    {
     "data": {
      "text/plain": [
       "['ai', 'ds', 'cs', 150, 20, True, [3, 4], (1, 2)]"
      ]
     },
     "execution_count": 10,
     "metadata": {},
     "output_type": "execute_result"
    }
   ],
   "source": [
    "list3"
   ]
  },
  {
   "cell_type": "code",
   "execution_count": 11,
   "id": "78564f52-332a-4a19-bf2f-dc5e400e451c",
   "metadata": {},
   "outputs": [],
   "source": [
    "list1[0] = 100"
   ]
  },
  {
   "cell_type": "code",
   "execution_count": 12,
   "id": "612cdd26-f1fc-4646-85bf-f4093fd9e955",
   "metadata": {},
   "outputs": [
    {
     "data": {
      "text/plain": [
       "[100, 'ds', 'cs', 150, 20, True, [3, 4], (1, 2)]"
      ]
     },
     "execution_count": 12,
     "metadata": {},
     "output_type": "execute_result"
    }
   ],
   "source": [
    "list1"
   ]
  },
  {
   "cell_type": "code",
   "execution_count": 13,
   "id": "cdd4e635-7946-4837-a042-84cc6ae94ae6",
   "metadata": {},
   "outputs": [
    {
     "data": {
      "text/plain": [
       "[100, 'ds', 'cs', 150, 20, True, [3, 4], (1, 2)]"
      ]
     },
     "execution_count": 13,
     "metadata": {},
     "output_type": "execute_result"
    }
   ],
   "source": [
    "list2"
   ]
  },
  {
   "cell_type": "code",
   "execution_count": 14,
   "id": "967b2615-8792-4ca1-8376-79939e0b22b3",
   "metadata": {},
   "outputs": [
    {
     "data": {
      "text/plain": [
       "['ai', 'ds', 'cs', 150, 20, True, [3, 4], (1, 2)]"
      ]
     },
     "execution_count": 14,
     "metadata": {},
     "output_type": "execute_result"
    }
   ],
   "source": [
    "list3"
   ]
  },
  {
   "cell_type": "code",
   "execution_count": 15,
   "id": "71790a7a-618f-4953-8a68-f3b14d9af60c",
   "metadata": {},
   "outputs": [],
   "source": [
    "list3[3] = 'data'"
   ]
  },
  {
   "cell_type": "code",
   "execution_count": 16,
   "id": "58a4b371-6a02-404d-bede-6a2d7daaff92",
   "metadata": {},
   "outputs": [
    {
     "data": {
      "text/plain": [
       "['ai', 'ds', 'cs', 'data', 20, True, [3, 4], (1, 2)]"
      ]
     },
     "execution_count": 16,
     "metadata": {},
     "output_type": "execute_result"
    }
   ],
   "source": [
    "list3"
   ]
  },
  {
   "cell_type": "code",
   "execution_count": 18,
   "id": "8e1be8c9-6911-4308-81a4-0ddf88755a6f",
   "metadata": {},
   "outputs": [
    {
     "data": {
      "text/plain": [
       "[100, 'ds', 'cs', 150, 20, True, [3, 4], (1, 2)]"
      ]
     },
     "execution_count": 18,
     "metadata": {},
     "output_type": "execute_result"
    }
   ],
   "source": [
    "list1"
   ]
  },
  {
   "cell_type": "code",
   "execution_count": 21,
   "id": "993db7f3-9db3-49c5-954a-95ff55ebc0a7",
   "metadata": {},
   "outputs": [
    {
     "data": {
      "text/plain": [
       "tuple"
      ]
     },
     "execution_count": 21,
     "metadata": {},
     "output_type": "execute_result"
    }
   ],
   "source": [
    "type(list1[-1])"
   ]
  },
  {
   "cell_type": "markdown",
   "id": "21787713-61c6-4a53-ab6e-fdb4ca69a7e7",
   "metadata": {},
   "source": [
    "# Append()"
   ]
  },
  {
   "cell_type": "code",
   "execution_count": 22,
   "id": "54bcdc74-2c08-4878-adb9-06e3ab0f031f",
   "metadata": {},
   "outputs": [],
   "source": [
    "list1.append(94)"
   ]
  },
  {
   "cell_type": "code",
   "execution_count": 23,
   "id": "b1a1deb8-06f0-4b5a-9f5d-437559fb02a8",
   "metadata": {},
   "outputs": [
    {
     "data": {
      "text/plain": [
       "[100, 'ds', 'cs', 150, 20, True, [3, 4], (1, 2), 94]"
      ]
     },
     "execution_count": 23,
     "metadata": {},
     "output_type": "execute_result"
    }
   ],
   "source": [
    "list1"
   ]
  },
  {
   "cell_type": "code",
   "execution_count": 24,
   "id": "2aa40b3e-48b3-452b-a318-84b66fc90e88",
   "metadata": {},
   "outputs": [],
   "source": [
    "l1 = [1,3,5,7]"
   ]
  },
  {
   "cell_type": "code",
   "execution_count": 25,
   "id": "06abaf57-af4a-47b3-8e4e-bcd90fd4e0cf",
   "metadata": {},
   "outputs": [],
   "source": [
    "list1.append(l1)"
   ]
  },
  {
   "cell_type": "code",
   "execution_count": 26,
   "id": "c098523f-4b68-4233-bcca-d1e4b80c4fa0",
   "metadata": {},
   "outputs": [
    {
     "data": {
      "text/plain": [
       "[100, 'ds', 'cs', 150, 20, True, [3, 4], (1, 2), 94, [1, 3, 5, 7]]"
      ]
     },
     "execution_count": 26,
     "metadata": {},
     "output_type": "execute_result"
    }
   ],
   "source": [
    "list1"
   ]
  },
  {
   "cell_type": "markdown",
   "id": "4cd18821-ffc2-43e7-8e7e-39b2a60e23d6",
   "metadata": {},
   "source": [
    "# Extend()"
   ]
  },
  {
   "cell_type": "code",
   "execution_count": 27,
   "id": "cb88b2f2-b697-444b-b623-bbc286a38d2f",
   "metadata": {},
   "outputs": [],
   "source": [
    "l2 = [2,4,6]"
   ]
  },
  {
   "cell_type": "code",
   "execution_count": 28,
   "id": "9bb4cc00-7408-4b3d-ae5b-d63024953ad7",
   "metadata": {},
   "outputs": [],
   "source": [
    "list1.extend(l2)"
   ]
  },
  {
   "cell_type": "code",
   "execution_count": 29,
   "id": "b69424e9-be3a-4055-8225-14c4e941477b",
   "metadata": {},
   "outputs": [
    {
     "data": {
      "text/plain": [
       "[100, 'ds', 'cs', 150, 20, True, [3, 4], (1, 2), 94, [1, 3, 5, 7], 2, 4, 6]"
      ]
     },
     "execution_count": 29,
     "metadata": {},
     "output_type": "execute_result"
    }
   ],
   "source": [
    "list1"
   ]
  },
  {
   "cell_type": "markdown",
   "id": "a1023e1b-a2cf-416a-8b50-d0e08f1f1a73",
   "metadata": {},
   "source": [
    "# Insert()"
   ]
  },
  {
   "cell_type": "code",
   "execution_count": 32,
   "id": "c2969dbb-fe56-4920-8116-29e7e4865cdc",
   "metadata": {},
   "outputs": [],
   "source": [
    "list1.insert(1,'data')"
   ]
  },
  {
   "cell_type": "code",
   "execution_count": 36,
   "id": "56bb2e82-bc06-43e7-a66b-dd9c6b8b2c28",
   "metadata": {},
   "outputs": [
    {
     "data": {
      "text/plain": [
       "['data',\n",
       " 'is',\n",
       " 100,\n",
       " 'ds',\n",
       " 'cs',\n",
       " 150,\n",
       " 20,\n",
       " True,\n",
       " [3, 4],\n",
       " (1, 2),\n",
       " 94,\n",
       " [1, 3, 5, 7],\n",
       " 2,\n",
       " 4,\n",
       " 6]"
      ]
     },
     "execution_count": 36,
     "metadata": {},
     "output_type": "execute_result"
    }
   ],
   "source": [
    "list1"
   ]
  },
  {
   "cell_type": "markdown",
   "id": "81a6674f-483d-44b9-af4c-3a3440a7bc8b",
   "metadata": {},
   "source": [
    "# Index()"
   ]
  },
  {
   "cell_type": "code",
   "execution_count": 37,
   "id": "2bf2f47f-c567-4f4a-8543-ee4304d710b8",
   "metadata": {},
   "outputs": [
    {
     "data": {
      "text/plain": [
       "5"
      ]
     },
     "execution_count": 37,
     "metadata": {},
     "output_type": "execute_result"
    }
   ],
   "source": [
    "list1.index(150)"
   ]
  },
  {
   "cell_type": "code",
   "execution_count": 42,
   "id": "67c8fd4c-af7a-48a3-8cbe-0ff75f092d26",
   "metadata": {},
   "outputs": [
    {
     "data": {
      "text/plain": [
       "9"
      ]
     },
     "execution_count": 42,
     "metadata": {},
     "output_type": "execute_result"
    }
   ],
   "source": [
    "list1.index((1, 2))"
   ]
  },
  {
   "cell_type": "markdown",
   "id": "7297e695-b857-43b6-a13b-a76a6d4b4e01",
   "metadata": {},
   "source": [
    "# Count()"
   ]
  },
  {
   "cell_type": "code",
   "execution_count": 43,
   "id": "b3e908ce-4c8d-4e16-ab59-818b693a8079",
   "metadata": {},
   "outputs": [
    {
     "data": {
      "text/plain": [
       "1"
      ]
     },
     "execution_count": 43,
     "metadata": {},
     "output_type": "execute_result"
    }
   ],
   "source": [
    "list1.count(150)"
   ]
  },
  {
   "cell_type": "markdown",
   "id": "4caec5d9-1b80-40d3-b4eb-30fd8fb6f64a",
   "metadata": {},
   "source": [
    "# Sort()"
   ]
  },
  {
   "cell_type": "code",
   "execution_count": 44,
   "id": "2ee9d4de-aad2-410a-99bf-9b31bf28c92b",
   "metadata": {},
   "outputs": [],
   "source": [
    "ls4 = [4,1,8,44,90,2,5,60,100]"
   ]
  },
  {
   "cell_type": "code",
   "execution_count": 45,
   "id": "2afefca9-f2ac-415c-95da-6b1d8cbbacf5",
   "metadata": {},
   "outputs": [],
   "source": [
    "ls4.sort()"
   ]
  },
  {
   "cell_type": "code",
   "execution_count": 46,
   "id": "fb872aaa-84dc-4a8d-9b29-268cbf91094b",
   "metadata": {},
   "outputs": [
    {
     "data": {
      "text/plain": [
       "[1, 2, 4, 5, 8, 44, 60, 90, 100]"
      ]
     },
     "execution_count": 46,
     "metadata": {},
     "output_type": "execute_result"
    }
   ],
   "source": [
    "ls4"
   ]
  },
  {
   "cell_type": "markdown",
   "id": "7e13d523-bbe4-41e9-ae05-afab9ee3b800",
   "metadata": {},
   "source": [
    "# Reverse()"
   ]
  },
  {
   "cell_type": "code",
   "execution_count": 47,
   "id": "29287092-0d24-4b31-af2f-984dd441a1c5",
   "metadata": {},
   "outputs": [],
   "source": [
    "ls4.reverse()"
   ]
  },
  {
   "cell_type": "code",
   "execution_count": 48,
   "id": "6d158b45-077f-4030-b802-af05210d92b5",
   "metadata": {},
   "outputs": [
    {
     "data": {
      "text/plain": [
       "[100, 90, 60, 44, 8, 5, 4, 2, 1]"
      ]
     },
     "execution_count": 48,
     "metadata": {},
     "output_type": "execute_result"
    }
   ],
   "source": [
    "ls4"
   ]
  },
  {
   "cell_type": "markdown",
   "id": "075e354e-6431-4c62-a8e0-b47839b8e349",
   "metadata": {},
   "source": [
    "# Remove()"
   ]
  },
  {
   "cell_type": "code",
   "execution_count": 52,
   "id": "03482eba-d2b2-401a-8a89-0a32e3c5249b",
   "metadata": {},
   "outputs": [],
   "source": [
    "ls4.remove(44)"
   ]
  },
  {
   "cell_type": "code",
   "execution_count": 53,
   "id": "daaa635f-1c9e-43fe-887e-f3f597cfc731",
   "metadata": {},
   "outputs": [
    {
     "data": {
      "text/plain": [
       "[100, 90, 60, 8, 5, 4, 2, 1]"
      ]
     },
     "execution_count": 53,
     "metadata": {},
     "output_type": "execute_result"
    }
   ],
   "source": [
    "ls4"
   ]
  },
  {
   "cell_type": "markdown",
   "id": "d3510026-9d54-4f12-9269-43cf2697f431",
   "metadata": {},
   "source": [
    "# pop()"
   ]
  },
  {
   "cell_type": "code",
   "execution_count": 54,
   "id": "c81ffbbd-70df-47e0-9329-ae61a87c6e62",
   "metadata": {},
   "outputs": [
    {
     "data": {
      "text/plain": [
       "1"
      ]
     },
     "execution_count": 54,
     "metadata": {},
     "output_type": "execute_result"
    }
   ],
   "source": [
    "ls4.pop()"
   ]
  },
  {
   "cell_type": "code",
   "execution_count": 55,
   "id": "c0ed509a-2a92-437f-a3b2-33b3cb36d2fe",
   "metadata": {},
   "outputs": [
    {
     "data": {
      "text/plain": [
       "[100, 90, 60, 8, 5, 4, 2]"
      ]
     },
     "execution_count": 55,
     "metadata": {},
     "output_type": "execute_result"
    }
   ],
   "source": [
    "ls4"
   ]
  },
  {
   "cell_type": "code",
   "execution_count": 56,
   "id": "2cde2d07-9ccd-4045-9c43-bb57f79b781f",
   "metadata": {},
   "outputs": [
    {
     "data": {
      "text/plain": [
       "8"
      ]
     },
     "execution_count": 56,
     "metadata": {},
     "output_type": "execute_result"
    }
   ],
   "source": [
    "ls4.pop(3)"
   ]
  },
  {
   "cell_type": "code",
   "execution_count": 57,
   "id": "b46d9e7c-43b9-4347-ad05-0a93b7e52726",
   "metadata": {},
   "outputs": [
    {
     "data": {
      "text/plain": [
       "[100, 90, 60, 5, 4, 2]"
      ]
     },
     "execution_count": 57,
     "metadata": {},
     "output_type": "execute_result"
    }
   ],
   "source": [
    "ls4"
   ]
  },
  {
   "cell_type": "code",
   "execution_count": 58,
   "id": "a65c17f2-8730-413c-a2eb-9cbe8d247f97",
   "metadata": {},
   "outputs": [],
   "source": [
    "del ls4[1] #delete"
   ]
  },
  {
   "cell_type": "code",
   "execution_count": 59,
   "id": "6af0f134-2cd7-45fe-b6f7-c63fa4b98dfa",
   "metadata": {},
   "outputs": [
    {
     "data": {
      "text/plain": [
       "[100, 60, 5, 4, 2]"
      ]
     },
     "execution_count": 59,
     "metadata": {},
     "output_type": "execute_result"
    }
   ],
   "source": [
    "ls4"
   ]
  },
  {
   "cell_type": "markdown",
   "id": "c9bfb181-1944-411b-83d3-8763180250d2",
   "metadata": {},
   "source": [
    "# clear()"
   ]
  },
  {
   "cell_type": "code",
   "execution_count": null,
   "id": "2afe66b5-bc33-4dc7-960c-4faa2e7595a5",
   "metadata": {},
   "outputs": [],
   "source": []
  }
 ],
 "metadata": {
  "kernelspec": {
   "display_name": "Python 3 (ipykernel)",
   "language": "python",
   "name": "python3"
  },
  "language_info": {
   "codemirror_mode": {
    "name": "ipython",
    "version": 3
   },
   "file_extension": ".py",
   "mimetype": "text/x-python",
   "name": "python",
   "nbconvert_exporter": "python",
   "pygments_lexer": "ipython3",
   "version": "3.12.7"
  }
 },
 "nbformat": 4,
 "nbformat_minor": 5
}
