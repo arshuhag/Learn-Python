{
 "cells": [
  {
   "cell_type": "markdown",
   "id": "9545955e-7250-4de8-9958-6da29c16afba",
   "metadata": {},
   "source": [
    "# Tuple"
   ]
  },
  {
   "cell_type": "code",
   "execution_count": 1,
   "id": "3e29a1f9-8af1-4644-8dee-96af4a60a6da",
   "metadata": {},
   "outputs": [
    {
     "name": "stdout",
     "output_type": "stream",
     "text": [
      "(1, 100, True, 'study mart', 'ai quest', 'UAP', (1, 5, 4, 8), [10, 5])\n"
     ]
    }
   ],
   "source": [
    "thistuple = (1,100,True,'study mart',\"ai quest\",\"UAP\",(1,5,4,8),[10,5])\n",
    "print(thistuple)"
   ]
  },
  {
   "cell_type": "code",
   "execution_count": 2,
   "id": "a87c80c2-79ce-4b9d-90a7-82603d435421",
   "metadata": {},
   "outputs": [
    {
     "data": {
      "text/plain": [
       "tuple"
      ]
     },
     "execution_count": 2,
     "metadata": {},
     "output_type": "execute_result"
    }
   ],
   "source": [
    "type(thistuple)"
   ]
  },
  {
   "cell_type": "code",
   "execution_count": 3,
   "id": "82b0d08b-6bb8-4667-82db-fbb970960e62",
   "metadata": {},
   "outputs": [
    {
     "data": {
      "text/plain": [
       "100"
      ]
     },
     "execution_count": 3,
     "metadata": {},
     "output_type": "execute_result"
    }
   ],
   "source": [
    "thistuple[1]"
   ]
  },
  {
   "cell_type": "code",
   "execution_count": 4,
   "id": "f08d87ef-10fd-40ad-ade9-eaab666d0428",
   "metadata": {},
   "outputs": [
    {
     "data": {
      "text/plain": [
       "[10, 5]"
      ]
     },
     "execution_count": 4,
     "metadata": {},
     "output_type": "execute_result"
    }
   ],
   "source": [
    "thistuple[-1]"
   ]
  },
  {
   "cell_type": "code",
   "execution_count": 5,
   "id": "37bea8b0-27a4-402d-9e45-952bdfe127e4",
   "metadata": {},
   "outputs": [
    {
     "data": {
      "text/plain": [
       "(True, 'study mart', 'ai quest', 'UAP')"
      ]
     },
     "execution_count": 5,
     "metadata": {},
     "output_type": "execute_result"
    }
   ],
   "source": [
    "thistuple[2:6]"
   ]
  },
  {
   "cell_type": "code",
   "execution_count": 6,
   "id": "8484d8a4-fa0e-40b7-bf1f-ba840cb42928",
   "metadata": {},
   "outputs": [
    {
     "data": {
      "text/plain": [
       "['ai python']"
      ]
     },
     "execution_count": 6,
     "metadata": {},
     "output_type": "execute_result"
    }
   ],
   "source": [
    "tup1 = ['ai python']\n",
    "tup1"
   ]
  },
  {
   "cell_type": "code",
   "execution_count": 7,
   "id": "175475d9-71b0-4898-b71a-36a09e89aef5",
   "metadata": {},
   "outputs": [
    {
     "data": {
      "text/plain": [
       "list"
      ]
     },
     "execution_count": 7,
     "metadata": {},
     "output_type": "execute_result"
    }
   ],
   "source": [
    "type(tup1)"
   ]
  },
  {
   "cell_type": "code",
   "execution_count": 8,
   "id": "df18a026-21b2-4338-a13f-ac22947ce53e",
   "metadata": {},
   "outputs": [
    {
     "data": {
      "text/plain": [
       "'ai python'"
      ]
     },
     "execution_count": 8,
     "metadata": {},
     "output_type": "execute_result"
    }
   ],
   "source": [
    "tup1 = ('ai python')\n",
    "tup1"
   ]
  },
  {
   "cell_type": "code",
   "execution_count": 9,
   "id": "e4972e35-8cc7-4832-acde-10eb824aaa44",
   "metadata": {},
   "outputs": [
    {
     "data": {
      "text/plain": [
       "str"
      ]
     },
     "execution_count": 9,
     "metadata": {},
     "output_type": "execute_result"
    }
   ],
   "source": [
    "type(tup1)"
   ]
  },
  {
   "cell_type": "code",
   "execution_count": 10,
   "id": "54226c1a-a3c6-429a-8e54-1dcc200a75fc",
   "metadata": {},
   "outputs": [
    {
     "data": {
      "text/plain": [
       "('ai python',)"
      ]
     },
     "execution_count": 10,
     "metadata": {},
     "output_type": "execute_result"
    }
   ],
   "source": [
    "tup1 = ('ai python',)\n",
    "tup1"
   ]
  },
  {
   "cell_type": "code",
   "execution_count": 11,
   "id": "0338b8f0-7bcd-4992-a8b5-9748d8afd326",
   "metadata": {},
   "outputs": [
    {
     "data": {
      "text/plain": [
       "tuple"
      ]
     },
     "execution_count": 11,
     "metadata": {},
     "output_type": "execute_result"
    }
   ],
   "source": [
    "type(tup1)"
   ]
  },
  {
   "cell_type": "code",
   "execution_count": 12,
   "id": "f6b0e025-9cf1-45e1-ba97-5032b89902dc",
   "metadata": {},
   "outputs": [],
   "source": [
    "# tuple to list\n",
    "l = list(tup1)"
   ]
  },
  {
   "cell_type": "code",
   "execution_count": 13,
   "id": "8910dbbf-f78b-4a95-a87f-faf35225dc19",
   "metadata": {},
   "outputs": [
    {
     "data": {
      "text/plain": [
       "['ai python']"
      ]
     },
     "execution_count": 13,
     "metadata": {},
     "output_type": "execute_result"
    }
   ],
   "source": [
    "l"
   ]
  },
  {
   "cell_type": "code",
   "execution_count": 14,
   "id": "2dee8db3-1704-4a9f-821c-09a4f3a94a12",
   "metadata": {},
   "outputs": [
    {
     "data": {
      "text/plain": [
       "list"
      ]
     },
     "execution_count": 14,
     "metadata": {},
     "output_type": "execute_result"
    }
   ],
   "source": [
    "type(l)"
   ]
  },
  {
   "cell_type": "code",
   "execution_count": 15,
   "id": "a295c5c5-b5dd-4d66-be5a-8dc331334dcc",
   "metadata": {},
   "outputs": [],
   "source": [
    "l.append('UAP')"
   ]
  },
  {
   "cell_type": "code",
   "execution_count": 16,
   "id": "5b179c8b-0335-4088-a1e9-e9af5813ef21",
   "metadata": {},
   "outputs": [
    {
     "data": {
      "text/plain": [
       "['ai python', 'UAP']"
      ]
     },
     "execution_count": 16,
     "metadata": {},
     "output_type": "execute_result"
    }
   ],
   "source": [
    "l"
   ]
  },
  {
   "cell_type": "code",
   "execution_count": 17,
   "id": "4b54d23a-7bfc-46d5-8fea-dae55d4dd8c2",
   "metadata": {},
   "outputs": [],
   "source": [
    "tup1 = tuple(l)"
   ]
  },
  {
   "cell_type": "code",
   "execution_count": 18,
   "id": "f9d11f68-70c3-4e01-bd57-6bd2e5ad8b77",
   "metadata": {},
   "outputs": [
    {
     "data": {
      "text/plain": [
       "('ai python', 'UAP')"
      ]
     },
     "execution_count": 18,
     "metadata": {},
     "output_type": "execute_result"
    }
   ],
   "source": [
    "tup1"
   ]
  },
  {
   "cell_type": "code",
   "execution_count": 19,
   "id": "512a2f5c-7749-4a8f-8acf-a3f124dd4f7a",
   "metadata": {},
   "outputs": [
    {
     "data": {
      "text/plain": [
       "tuple"
      ]
     },
     "execution_count": 19,
     "metadata": {},
     "output_type": "execute_result"
    }
   ],
   "source": [
    "type(tup1)"
   ]
  },
  {
   "cell_type": "code",
   "execution_count": 20,
   "id": "878d9241-20a4-4173-bdc6-22342b5130c2",
   "metadata": {},
   "outputs": [],
   "source": [
    "tup2 = (1,2,4,6,'data')"
   ]
  },
  {
   "cell_type": "code",
   "execution_count": 21,
   "id": "c74aeb19-5e78-4795-9e24-05a41df04a87",
   "metadata": {},
   "outputs": [
    {
     "data": {
      "text/plain": [
       "tuple"
      ]
     },
     "execution_count": 21,
     "metadata": {},
     "output_type": "execute_result"
    }
   ],
   "source": [
    "type(tup2)"
   ]
  },
  {
   "cell_type": "code",
   "execution_count": 22,
   "id": "ff52fd1e-b287-47fe-b9c9-885ed2612295",
   "metadata": {},
   "outputs": [
    {
     "data": {
      "text/plain": [
       "('ai python', 'UAP', 1, 2, 4, 6, 'data')"
      ]
     },
     "execution_count": 22,
     "metadata": {},
     "output_type": "execute_result"
    }
   ],
   "source": [
    "# tuple concatenation\n",
    "tup1+tup2"
   ]
  },
  {
   "cell_type": "code",
   "execution_count": 23,
   "id": "d36bd37b-6033-427f-928b-e2097a48d9b4",
   "metadata": {},
   "outputs": [
    {
     "data": {
      "text/plain": [
       "(1, 2, 4, 6, 'data', 1, 2, 4, 6, 'data')"
      ]
     },
     "execution_count": 23,
     "metadata": {},
     "output_type": "execute_result"
    }
   ],
   "source": [
    "tup2*2"
   ]
  },
  {
   "cell_type": "code",
   "execution_count": 24,
   "id": "c9206cef-58de-4e05-8ea0-ddfdaf26af69",
   "metadata": {},
   "outputs": [],
   "source": [
    "tup3 = tup2*4"
   ]
  },
  {
   "cell_type": "code",
   "execution_count": 25,
   "id": "bc11bc53-ca43-49db-82a1-5e9f254330f6",
   "metadata": {},
   "outputs": [
    {
     "data": {
      "text/plain": [
       "(1,\n",
       " 2,\n",
       " 4,\n",
       " 6,\n",
       " 'data',\n",
       " 1,\n",
       " 2,\n",
       " 4,\n",
       " 6,\n",
       " 'data',\n",
       " 1,\n",
       " 2,\n",
       " 4,\n",
       " 6,\n",
       " 'data',\n",
       " 1,\n",
       " 2,\n",
       " 4,\n",
       " 6,\n",
       " 'data')"
      ]
     },
     "execution_count": 25,
     "metadata": {},
     "output_type": "execute_result"
    }
   ],
   "source": [
    "tup3"
   ]
  },
  {
   "cell_type": "markdown",
   "id": "25fdb340-a4b6-4300-9d52-67da0e36a3cd",
   "metadata": {},
   "source": [
    "# Methods"
   ]
  },
  {
   "cell_type": "code",
   "execution_count": 26,
   "id": "8707efe7-580e-4ad6-85e0-54aef9074326",
   "metadata": {},
   "outputs": [
    {
     "data": {
      "text/plain": [
       "4"
      ]
     },
     "execution_count": 26,
     "metadata": {},
     "output_type": "execute_result"
    }
   ],
   "source": [
    "tup3.count(6)"
   ]
  },
  {
   "cell_type": "code",
   "execution_count": 27,
   "id": "54cedd33-6657-438a-9e97-2ee469b4f7ee",
   "metadata": {},
   "outputs": [
    {
     "data": {
      "text/plain": [
       "2"
      ]
     },
     "execution_count": 27,
     "metadata": {},
     "output_type": "execute_result"
    }
   ],
   "source": [
    "tup3.index(4)"
   ]
  },
  {
   "cell_type": "code",
   "execution_count": 28,
   "id": "1ac22ccd-bc6b-4e04-acb3-4f70273023fc",
   "metadata": {},
   "outputs": [
    {
     "data": {
      "text/plain": [
       "True"
      ]
     },
     "execution_count": 28,
     "metadata": {},
     "output_type": "execute_result"
    }
   ],
   "source": [
    "#membership\n",
    "'data' in tup2"
   ]
  },
  {
   "cell_type": "code",
   "execution_count": 29,
   "id": "84666259-5f00-44c1-bef8-92164270a469",
   "metadata": {},
   "outputs": [
    {
     "data": {
      "text/plain": [
       "(1, 2, 4, 6, 'data')"
      ]
     },
     "execution_count": 29,
     "metadata": {},
     "output_type": "execute_result"
    }
   ],
   "source": [
    "tup2"
   ]
  },
  {
   "cell_type": "code",
   "execution_count": 30,
   "id": "533415a2-797a-4f29-b976-495dd6c0e919",
   "metadata": {},
   "outputs": [
    {
     "data": {
      "text/plain": [
       "False"
      ]
     },
     "execution_count": 30,
     "metadata": {},
     "output_type": "execute_result"
    }
   ],
   "source": [
    "'ai' in tup2"
   ]
  },
  {
   "cell_type": "code",
   "execution_count": 31,
   "id": "b456d186-bfad-40cd-a449-cf53c17dfd83",
   "metadata": {},
   "outputs": [
    {
     "data": {
      "text/plain": [
       "(1,\n",
       " 2,\n",
       " 4,\n",
       " 6,\n",
       " 'data',\n",
       " 1,\n",
       " 2,\n",
       " 4,\n",
       " 6,\n",
       " 'data',\n",
       " 1,\n",
       " 2,\n",
       " 4,\n",
       " 6,\n",
       " 'data',\n",
       " 1,\n",
       " 2,\n",
       " 4,\n",
       " 6,\n",
       " 'data')"
      ]
     },
     "execution_count": 31,
     "metadata": {},
     "output_type": "execute_result"
    }
   ],
   "source": [
    "tup3"
   ]
  },
  {
   "cell_type": "code",
   "execution_count": 33,
   "id": "8fd86626-02e0-4c50-b76a-451469368c0c",
   "metadata": {},
   "outputs": [],
   "source": [
    "del tup3"
   ]
  },
  {
   "cell_type": "code",
   "execution_count": 34,
   "id": "20783941-d8c1-4bbd-bc7b-c7287e688e5c",
   "metadata": {},
   "outputs": [
    {
     "data": {
      "text/plain": [
       "(1, 2, 4, 6, 'data')"
      ]
     },
     "execution_count": 34,
     "metadata": {},
     "output_type": "execute_result"
    }
   ],
   "source": [
    "tup2"
   ]
  },
  {
   "cell_type": "code",
   "execution_count": 35,
   "id": "f5952f2f-8352-41bf-b427-23119b6d1e84",
   "metadata": {},
   "outputs": [
    {
     "name": "stdout",
     "output_type": "stream",
     "text": [
      "1\n",
      "2\n",
      "4\n",
      "6\n",
      "data\n"
     ]
    }
   ],
   "source": [
    "for i in tup2:\n",
    "    print(i)"
   ]
  },
  {
   "cell_type": "code",
   "execution_count": 36,
   "id": "44c57f4d-7f46-403a-aa02-1b4eb4b53919",
   "metadata": {},
   "outputs": [
    {
     "data": {
      "text/plain": [
       "('ai python', 'UAP')"
      ]
     },
     "execution_count": 36,
     "metadata": {},
     "output_type": "execute_result"
    }
   ],
   "source": [
    "tup1"
   ]
  },
  {
   "cell_type": "code",
   "execution_count": 37,
   "id": "949b89d2-28ad-41cc-936d-dd8521e3175f",
   "metadata": {},
   "outputs": [
    {
     "data": {
      "text/plain": [
       "(1, 100, True, 'study mart', 'ai quest', 'UAP', (1, 5, 4, 8), [10, 5])"
      ]
     },
     "execution_count": 37,
     "metadata": {},
     "output_type": "execute_result"
    }
   ],
   "source": [
    "thistuple"
   ]
  },
  {
   "cell_type": "code",
   "execution_count": 38,
   "id": "7f160766-d99e-4037-9fa7-5fd0da573155",
   "metadata": {},
   "outputs": [
    {
     "name": "stdout",
     "output_type": "stream",
     "text": [
      "1\n",
      "100\n",
      "True\n",
      "study mart\n",
      "ai quest\n",
      "UAP\n",
      "(1, 5, 4, 8)\n",
      "[10, 5]\n"
     ]
    }
   ],
   "source": [
    "for i in thistuple:\n",
    "    print(i)"
   ]
  },
  {
   "cell_type": "code",
   "execution_count": 39,
   "id": "66956f65-e45c-4c80-baa6-48df64455d9e",
   "metadata": {},
   "outputs": [
    {
     "data": {
      "text/plain": [
       "[10, 5]"
      ]
     },
     "execution_count": 39,
     "metadata": {},
     "output_type": "execute_result"
    }
   ],
   "source": [
    "thistuple[-1]"
   ]
  },
  {
   "cell_type": "code",
   "execution_count": 40,
   "id": "ad9f187f-fee3-4b94-a80e-54933ee2033c",
   "metadata": {},
   "outputs": [
    {
     "data": {
      "text/plain": [
       "10"
      ]
     },
     "execution_count": 40,
     "metadata": {},
     "output_type": "execute_result"
    }
   ],
   "source": [
    "thistuple[-1][0]"
   ]
  },
  {
   "cell_type": "code",
   "execution_count": 43,
   "id": "a5c17619-1be6-4a14-9291-e838c209e609",
   "metadata": {},
   "outputs": [
    {
     "data": {
      "text/plain": [
       "(1, 5, 4, 8)"
      ]
     },
     "execution_count": 43,
     "metadata": {},
     "output_type": "execute_result"
    }
   ],
   "source": [
    "thistuple[-2]"
   ]
  },
  {
   "cell_type": "code",
   "execution_count": 45,
   "id": "00e1611d-cce8-40be-a8ff-5bc791b1a2cc",
   "metadata": {},
   "outputs": [
    {
     "data": {
      "text/plain": [
       "5"
      ]
     },
     "execution_count": 45,
     "metadata": {},
     "output_type": "execute_result"
    }
   ],
   "source": [
    "thistuple[-2][1]"
   ]
  },
  {
   "cell_type": "code",
   "execution_count": null,
   "id": "1527da84-f1ef-40ac-8261-dfba3cfccbcf",
   "metadata": {},
   "outputs": [],
   "source": []
  }
 ],
 "metadata": {
  "kernelspec": {
   "display_name": "Python 3 (ipykernel)",
   "language": "python",
   "name": "python3"
  },
  "language_info": {
   "codemirror_mode": {
    "name": "ipython",
    "version": 3
   },
   "file_extension": ".py",
   "mimetype": "text/x-python",
   "name": "python",
   "nbconvert_exporter": "python",
   "pygments_lexer": "ipython3",
   "version": "3.12.7"
  }
 },
 "nbformat": 4,
 "nbformat_minor": 5
}
