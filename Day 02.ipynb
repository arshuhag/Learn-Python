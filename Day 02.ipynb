{
 "cells": [
  {
   "cell_type": "markdown",
   "id": "ad37dbbf-c4f4-4381-a418-2837fedc4872",
   "metadata": {},
   "source": [
    "# input function #"
   ]
  },
  {
   "cell_type": "code",
   "execution_count": 2,
   "id": "d50c434c-92f3-473f-9df4-c9ce94ed56c9",
   "metadata": {},
   "outputs": [
    {
     "data": {
      "text/plain": [
       "str"
      ]
     },
     "execution_count": 2,
     "metadata": {},
     "output_type": "execute_result"
    }
   ],
   "source": [
    "data = 'data science fun'\n",
    "type(data)"
   ]
  },
  {
   "cell_type": "code",
   "execution_count": 3,
   "id": "c4cc70d7-51b5-496c-bc17-ce144d6f0596",
   "metadata": {},
   "outputs": [
    {
     "name": "stdin",
     "output_type": "stream",
     "text": [
      " data science\n"
     ]
    }
   ],
   "source": [
    "data = input()"
   ]
  },
  {
   "cell_type": "code",
   "execution_count": 4,
   "id": "fd521797-5f2c-44ef-939e-55b19a81b4f8",
   "metadata": {},
   "outputs": [
    {
     "data": {
      "text/plain": [
       "'data science'"
      ]
     },
     "execution_count": 4,
     "metadata": {},
     "output_type": "execute_result"
    }
   ],
   "source": [
    "data"
   ]
  },
  {
   "cell_type": "code",
   "execution_count": 5,
   "id": "2f2820ed-c60b-4da3-83ac-fa9dc56aac1e",
   "metadata": {},
   "outputs": [
    {
     "name": "stdin",
     "output_type": "stream",
     "text": [
      " 35\n"
     ]
    }
   ],
   "source": [
    "age = input()"
   ]
  },
  {
   "cell_type": "code",
   "execution_count": 6,
   "id": "a2efd979-23ae-4efe-ac8a-7848266db1ba",
   "metadata": {},
   "outputs": [
    {
     "data": {
      "text/plain": [
       "'35'"
      ]
     },
     "execution_count": 6,
     "metadata": {},
     "output_type": "execute_result"
    }
   ],
   "source": [
    "age"
   ]
  },
  {
   "cell_type": "code",
   "execution_count": 7,
   "id": "6d92ed0a-11d9-4910-8553-71f34e58aa8d",
   "metadata": {},
   "outputs": [
    {
     "data": {
      "text/plain": [
       "str"
      ]
     },
     "execution_count": 7,
     "metadata": {},
     "output_type": "execute_result"
    }
   ],
   "source": [
    "type(age)"
   ]
  },
  {
   "cell_type": "code",
   "execution_count": 8,
   "id": "3efff45d-bfba-4bdd-8660-59dc66cbdf34",
   "metadata": {},
   "outputs": [
    {
     "name": "stdin",
     "output_type": "stream",
     "text": [
      " 10\n",
      " 20\n"
     ]
    }
   ],
   "source": [
    "x = input()\n",
    "y = input()"
   ]
  },
  {
   "cell_type": "code",
   "execution_count": 9,
   "id": "2d2e1b08-d4f7-43b0-8d87-a40970e9c5fe",
   "metadata": {},
   "outputs": [
    {
     "data": {
      "text/plain": [
       "'1020'"
      ]
     },
     "execution_count": 9,
     "metadata": {},
     "output_type": "execute_result"
    }
   ],
   "source": [
    "x+y"
   ]
  },
  {
   "cell_type": "code",
   "execution_count": 10,
   "id": "0170c9e3-c754-4658-b405-61afae8bd247",
   "metadata": {},
   "outputs": [
    {
     "name": "stdin",
     "output_type": "stream",
     "text": [
      "Enter your number:  10\n"
     ]
    }
   ],
   "source": [
    "x = int(input('Enter your number: '))"
   ]
  },
  {
   "cell_type": "code",
   "execution_count": 11,
   "id": "b90d3d06-92bc-471c-8e98-1a902351b293",
   "metadata": {},
   "outputs": [
    {
     "name": "stdin",
     "output_type": "stream",
     "text": [
      " 10.5\n"
     ]
    }
   ],
   "source": [
    "y = float(input())"
   ]
  },
  {
   "cell_type": "code",
   "execution_count": 12,
   "id": "6622763f-f9f7-40a3-b7e2-c86bed6ebcdb",
   "metadata": {},
   "outputs": [
    {
     "data": {
      "text/plain": [
       "20.5"
      ]
     },
     "execution_count": 12,
     "metadata": {},
     "output_type": "execute_result"
    }
   ],
   "source": [
    "x+y"
   ]
  },
  {
   "cell_type": "code",
   "execution_count": 13,
   "id": "b2a56f8e-dc89-453f-87c1-504ec0fad9b2",
   "metadata": {},
   "outputs": [],
   "source": [
    "data = 'Learning Python'"
   ]
  },
  {
   "cell_type": "code",
   "execution_count": 14,
   "id": "4b4ae148-5822-4f73-bf6f-e6ddb1ae68ef",
   "metadata": {},
   "outputs": [
    {
     "data": {
      "text/plain": [
       "str"
      ]
     },
     "execution_count": 14,
     "metadata": {},
     "output_type": "execute_result"
    }
   ],
   "source": [
    "type(data)"
   ]
  },
  {
   "cell_type": "code",
   "execution_count": 15,
   "id": "063422b8-a4fb-4ba1-a255-a5d3bd7559d4",
   "metadata": {},
   "outputs": [
    {
     "data": {
      "text/plain": [
       "15"
      ]
     },
     "execution_count": 15,
     "metadata": {},
     "output_type": "execute_result"
    }
   ],
   "source": [
    "len(data)"
   ]
  },
  {
   "cell_type": "code",
   "execution_count": 16,
   "id": "d084fa98-4ea2-4345-b89f-83a5bc2729e7",
   "metadata": {},
   "outputs": [
    {
     "data": {
      "text/plain": [
       "56"
      ]
     },
     "execution_count": 16,
     "metadata": {},
     "output_type": "execute_result"
    }
   ],
   "source": [
    "import sys\n",
    "sys.getsizeof(data)"
   ]
  },
  {
   "cell_type": "code",
   "execution_count": 17,
   "id": "5cd0f7aa-63d4-45ce-9e72-32c159003398",
   "metadata": {},
   "outputs": [
    {
     "data": {
      "text/plain": [
       "3"
      ]
     },
     "execution_count": 17,
     "metadata": {},
     "output_type": "execute_result"
    }
   ],
   "source": [
    "data.count('n')"
   ]
  },
  {
   "cell_type": "markdown",
   "id": "7f8b6634-ad62-496e-b1cb-71217496653b",
   "metadata": {},
   "source": [
    "# String methods"
   ]
  },
  {
   "cell_type": "code",
   "execution_count": 19,
   "id": "88a4cd61-008b-482b-b67d-1277f01c8fec",
   "metadata": {},
   "outputs": [
    {
     "data": {
      "text/plain": [
       "8"
      ]
     },
     "execution_count": 19,
     "metadata": {},
     "output_type": "execute_result"
    }
   ],
   "source": [
    "data = 'Today i am learning python for the new journey!'\n",
    "data.find('am')"
   ]
  },
  {
   "cell_type": "code",
   "execution_count": 20,
   "id": "d2fe2d84-5e64-46e5-8206-c6205b1f148b",
   "metadata": {},
   "outputs": [
    {
     "data": {
      "text/plain": [
       "3"
      ]
     },
     "execution_count": 20,
     "metadata": {},
     "output_type": "execute_result"
    }
   ],
   "source": [
    "data.find('a') #find value from string"
   ]
  },
  {
   "cell_type": "code",
   "execution_count": 21,
   "id": "592373eb-ed0b-4149-a1da-da43b3d344a3",
   "metadata": {},
   "outputs": [
    {
     "data": {
      "text/plain": [
       "13"
      ]
     },
     "execution_count": 21,
     "metadata": {},
     "output_type": "execute_result"
    }
   ],
   "source": [
    "data.find('a',10,15)"
   ]
  },
  {
   "cell_type": "code",
   "execution_count": 22,
   "id": "23272058-9089-4dc9-8eae-a282154fe923",
   "metadata": {},
   "outputs": [
    {
     "data": {
      "text/plain": [
       "13"
      ]
     },
     "execution_count": 22,
     "metadata": {},
     "output_type": "execute_result"
    }
   ],
   "source": [
    "data.index('a',10,15)"
   ]
  },
  {
   "cell_type": "code",
   "execution_count": 24,
   "id": "213cd180-34d8-42ab-a28a-b6ecaee9c7f9",
   "metadata": {},
   "outputs": [
    {
     "data": {
      "text/plain": [
       "13"
      ]
     },
     "execution_count": 24,
     "metadata": {},
     "output_type": "execute_result"
    }
   ],
   "source": [
    "data.index('a',10,15)"
   ]
  },
  {
   "cell_type": "code",
   "execution_count": 25,
   "id": "e7fd5696-49de-4757-afd2-b5f1ec78c80e",
   "metadata": {},
   "outputs": [
    {
     "data": {
      "text/plain": [
       "'today i am learning python for the new journey!'"
      ]
     },
     "execution_count": 25,
     "metadata": {},
     "output_type": "execute_result"
    }
   ],
   "source": [
    "data.lower() #convert all char into lower case"
   ]
  },
  {
   "cell_type": "code",
   "execution_count": 26,
   "id": "50a7af38-3d3e-4805-985d-38ca8b839524",
   "metadata": {},
   "outputs": [
    {
     "data": {
      "text/plain": [
       "'TODAY I AM LEARNING PYTHON FOR THE NEW JOURNEY!'"
      ]
     },
     "execution_count": 26,
     "metadata": {},
     "output_type": "execute_result"
    }
   ],
   "source": [
    "data.upper() #convert all char into upper case"
   ]
  },
  {
   "cell_type": "code",
   "execution_count": 27,
   "id": "f52f0665-2cf2-4840-bc0f-b27374ef71c0",
   "metadata": {},
   "outputs": [
    {
     "data": {
      "text/plain": [
       "'Today i am learning python for the new journey!'"
      ]
     },
     "execution_count": 27,
     "metadata": {},
     "output_type": "execute_result"
    }
   ],
   "source": [
    "data.capitalize() #convert only first chat into upper case"
   ]
  },
  {
   "cell_type": "code",
   "execution_count": 28,
   "id": "9b95944d-f8e9-444d-b68a-b4ab567cf61c",
   "metadata": {},
   "outputs": [
    {
     "data": {
      "text/plain": [
       "'today i am learning python for the new journey!'"
      ]
     },
     "execution_count": 28,
     "metadata": {},
     "output_type": "execute_result"
    }
   ],
   "source": [
    "data.casefold() #lower"
   ]
  },
  {
   "cell_type": "code",
   "execution_count": 29,
   "id": "3bca5c06-6a46-48c9-800c-764eaa5a3d11",
   "metadata": {},
   "outputs": [
    {
     "data": {
      "text/plain": [
       "'tODAY I AM LEARNING PYTHON FOR THE NEW JOURNEY!'"
      ]
     },
     "execution_count": 29,
     "metadata": {},
     "output_type": "execute_result"
    }
   ],
   "source": [
    "data.swapcase() #convert lower case into upper case and upper case into lower case"
   ]
  },
  {
   "cell_type": "code",
   "execution_count": 30,
   "id": "572af3c0-71fa-4612-b501-8851f64b9e32",
   "metadata": {},
   "outputs": [
    {
     "data": {
      "text/plain": [
       "'Today I Am Learning Python For The New Journey!'"
      ]
     },
     "execution_count": 30,
     "metadata": {},
     "output_type": "execute_result"
    }
   ],
   "source": [
    "data.title()"
   ]
  },
  {
   "cell_type": "code",
   "execution_count": 31,
   "id": "e490acd0-2851-4e77-8c3a-4f0a2b30b7af",
   "metadata": {},
   "outputs": [
    {
     "data": {
      "text/plain": [
       "False"
      ]
     },
     "execution_count": 31,
     "metadata": {},
     "output_type": "execute_result"
    }
   ],
   "source": [
    "data.islower()"
   ]
  },
  {
   "cell_type": "code",
   "execution_count": 32,
   "id": "3c6e9218-722d-47ee-998a-50fbafd0c175",
   "metadata": {},
   "outputs": [
    {
     "data": {
      "text/plain": [
       "False"
      ]
     },
     "execution_count": 32,
     "metadata": {},
     "output_type": "execute_result"
    }
   ],
   "source": [
    "data.isupper()"
   ]
  },
  {
   "cell_type": "code",
   "execution_count": 33,
   "id": "3da51d88-d70f-42ec-95c6-955f4c7c2f50",
   "metadata": {},
   "outputs": [
    {
     "data": {
      "text/plain": [
       "b'Today i am learning python for the new journey!'"
      ]
     },
     "execution_count": 33,
     "metadata": {},
     "output_type": "execute_result"
    }
   ],
   "source": [
    "data.encode()"
   ]
  },
  {
   "cell_type": "code",
   "execution_count": 34,
   "id": "1989f8d1-38ba-4b0b-9b15-7a44aa0c9472",
   "metadata": {},
   "outputs": [
    {
     "data": {
      "text/plain": [
       "bytes"
      ]
     },
     "execution_count": 34,
     "metadata": {},
     "output_type": "execute_result"
    }
   ],
   "source": [
    "type(data.encode())"
   ]
  },
  {
   "cell_type": "code",
   "execution_count": 35,
   "id": "02cc336c-c955-4af5-b257-0b3ebff1c67e",
   "metadata": {},
   "outputs": [
    {
     "data": {
      "text/plain": [
       "['Today', 'i', 'am', 'learning', 'python', 'for', 'the', 'new', 'journey!']"
      ]
     },
     "execution_count": 35,
     "metadata": {},
     "output_type": "execute_result"
    }
   ],
   "source": [
    "data.split()"
   ]
  },
  {
   "cell_type": "code",
   "execution_count": 36,
   "id": "d0f43130-9bd7-448c-aa0c-3afd8aa48da2",
   "metadata": {},
   "outputs": [
    {
     "data": {
      "text/plain": [
       "'am'"
      ]
     },
     "execution_count": 36,
     "metadata": {},
     "output_type": "execute_result"
    }
   ],
   "source": [
    "data.split()[2]"
   ]
  },
  {
   "cell_type": "code",
   "execution_count": 40,
   "id": "5f0cc82c-2fec-4fcf-b3f1-da2b67fb78eb",
   "metadata": {},
   "outputs": [
    {
     "data": {
      "text/plain": [
       "'                          Today i am learning python for the new journey!                           '"
      ]
     },
     "execution_count": 40,
     "metadata": {},
     "output_type": "execute_result"
    }
   ],
   "source": [
    "data.center(100)"
   ]
  },
  {
   "cell_type": "code",
   "execution_count": 42,
   "id": "f01d7e0e-90f1-4d07-85ae-dc2b1d9e922f",
   "metadata": {},
   "outputs": [
    {
     "data": {
      "text/plain": [
       "'Tomorrow i am learning python for the new journey!'"
      ]
     },
     "execution_count": 42,
     "metadata": {},
     "output_type": "execute_result"
    }
   ],
   "source": [
    "data.replace('Today','Tomorrow')"
   ]
  },
  {
   "cell_type": "code",
   "execution_count": 43,
   "id": "e41315f8-936e-4e5d-8898-b6eb800b69f1",
   "metadata": {},
   "outputs": [
    {
     "name": "stdout",
     "output_type": "stream",
     "text": [
      "i have  500 taka\n"
     ]
    }
   ],
   "source": [
    "x = 10\n",
    "y = 50\n",
    "z = x*y\n",
    "print('i have ',z, 'taka')"
   ]
  },
  {
   "cell_type": "code",
   "execution_count": 45,
   "id": "a3de388b-22b7-46b2-bfe0-33e7201ec02d",
   "metadata": {},
   "outputs": [
    {
     "name": "stdout",
     "output_type": "stream",
     "text": [
      "i have 500 taka\n"
     ]
    }
   ],
   "source": [
    "print('i have {} taka'.format(z))"
   ]
  },
  {
   "cell_type": "code",
   "execution_count": null,
   "id": "48228da7-ebc6-4578-88c6-1037f81a5591",
   "metadata": {},
   "outputs": [],
   "source": []
  }
 ],
 "metadata": {
  "kernelspec": {
   "display_name": "Python 3 (ipykernel)",
   "language": "python",
   "name": "python3"
  },
  "language_info": {
   "codemirror_mode": {
    "name": "ipython",
    "version": 3
   },
   "file_extension": ".py",
   "mimetype": "text/x-python",
   "name": "python",
   "nbconvert_exporter": "python",
   "pygments_lexer": "ipython3",
   "version": "3.12.7"
  }
 },
 "nbformat": 4,
 "nbformat_minor": 5
}
